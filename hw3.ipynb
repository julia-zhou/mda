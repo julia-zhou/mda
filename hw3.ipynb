{
 "cells": [
  {
   "cell_type": "markdown",
   "metadata": {},
   "source": [
    "# HW3"
   ]
  },
  {
   "cell_type": "code",
   "execution_count": 1,
   "metadata": {
    "collapsed": true
   },
   "outputs": [],
   "source": [
    "import numpy as np\n",
    "import scipy as sp\n",
    "import pandas as pd\n",
    "import matplotlib.pyplot as plt\n",
    "import seaborn\n",
    "\n",
    "from sklearn.decomposition import FactorAnalysis\n",
    "from sklearn.metrics.pairwise import euclidean_distances\n",
    "from sklearn.manifold import MDS\n",
    "from sklearn.preprocessing import scale\n",
    "from IPython.display import Image\n",
    "\n",
    "%matplotlib inline\n",
    "\n",
    "import warnings\n",
    "warnings.filterwarnings(\"ignore\")"
   ]
  },
  {
   "cell_type": "markdown",
   "metadata": {},
   "source": [
    "## Question 1: Factor Analysis\n",
    "\n",
    "### (a) \n",
    "Obtain the principal component solution to the factor model X = μ + LF + ε with number of factors m = 1 and m = 2 using:\n",
    "- (i) the sample covariance matrix\n",
    "- (ii) the sample correlation matrix.\n",
    "\n",
    "In other words, you should find the matrix factor loadings L ∈ Rn×m, the specific variances ψ1, . . . , ψp ∈ R, and write down the proportions of variability (in percentages) due to the factors."
   ]
  },
  {
   "cell_type": "code",
   "execution_count": 2,
   "metadata": {
    "collapsed": false
   },
   "outputs": [],
   "source": [
    "col = ['X1', 'X2', 'X3', 'X4', 'X5', 'X6', 'X7']\n",
    "data = pd.read_table('http://www.stat.uchicago.edu/~lekheng/courses/331/hw3/p1.txt',\\\n",
    "                     sep = '  ', names = col, usecols = [0, 1, 4, 5])"
   ]
  },
  {
   "cell_type": "code",
   "execution_count": 3,
   "metadata": {
    "collapsed": false
   },
   "outputs": [],
   "source": [
    "x = np.matrix(data).T\n",
    "x_cov = np.cov(x)\n",
    "x_cor = np.corrcoef(x)"
   ]
  },
  {
   "cell_type": "code",
   "execution_count": 4,
   "metadata": {
    "collapsed": true
   },
   "outputs": [],
   "source": [
    "def factor_analysis(matrix, m):\n",
    "    U, s, V = np.linalg.svd(matrix, full_matrices=True)\n",
    "    L = [np.dot(U[:, i], np.sqrt(s[i])) for i in range(m)]\n",
    "    L = np.matrix(L).T\n",
    "    PSI = np.diag(matrix - np.dot(L, L.T))\n",
    "    proportion_of_var = sum(s[:m])/sum(s)\n",
    "    print('The matrix factor loadings are:\\n', L)\n",
    "    print('\\nThe specific variances are:\\n', PSI)\n",
    "    print('\\nThe the proportion of variability due to the factors are:\\n', format(proportion_of_var, '.2f'))\n",
    "    return (L, PSI, proportion_of_var)"
   ]
  },
  {
   "cell_type": "markdown",
   "metadata": {},
   "source": [
    "(i) sample covariance matrix"
   ]
  },
  {
   "cell_type": "code",
   "execution_count": 5,
   "metadata": {
    "collapsed": false
   },
   "outputs": [
    {
     "name": "stdout",
     "output_type": "stream",
     "text": [
      "The matrix factor loadings are:\n",
      " [[  0.23076099]\n",
      " [-17.28504461]\n",
      " [ -0.49563311]\n",
      " [ -2.04321236]]\n",
      "\n",
      "The specific variances are:\n",
      " [  2.44674937   0.39564171  11.11787859  26.27824491]\n",
      "\n",
      "The the proportion of variability due to the factors are:\n",
      " 0.88\n"
     ]
    }
   ],
   "source": [
    "# m = 1\n",
    "L_1, PSI_1, proportion_of_var_1 = factor_analysis(x_cov, 1)"
   ]
  },
  {
   "cell_type": "code",
   "execution_count": 6,
   "metadata": {
    "collapsed": false
   },
   "outputs": [
    {
     "name": "stdout",
     "output_type": "stream",
     "text": [
      "The matrix factor loadings are:\n",
      " [[  0.23076099  -0.34631182]\n",
      " [-17.28504461  -0.62751   ]\n",
      " [ -0.49563311   0.67304777]\n",
      " [ -2.04321236   5.10619377]]\n",
      "\n",
      "The specific variances are:\n",
      " [  2.32681749e+00   1.87291224e-03   1.06648853e+01   2.05030070e-01]\n",
      "\n",
      "The the proportion of variability due to the factors are:\n",
      " 0.96\n"
     ]
    }
   ],
   "source": [
    "# m = 2\n",
    "L_2, PSI_2, proportion_of_var_2  = factor_analysis(x_cov, 2)"
   ]
  },
  {
   "cell_type": "markdown",
   "metadata": {},
   "source": [
    "(ii) the sample correlation matrix."
   ]
  },
  {
   "cell_type": "code",
   "execution_count": 7,
   "metadata": {
    "collapsed": false
   },
   "outputs": [
    {
     "name": "stdout",
     "output_type": "stream",
     "text": [
      "The matrix factor loadings are:\n",
      " [[-0.55838924]\n",
      " [ 0.68401053]\n",
      " [ 0.47839373]\n",
      " [ 0.75615704]]\n",
      "\n",
      "The specific variances are:\n",
      " [ 0.68820146  0.5321296   0.77113944  0.42822653]\n",
      "\n",
      "The the proportion of variability due to the factors are:\n",
      " 0.40\n"
     ]
    }
   ],
   "source": [
    "# m = 1\n",
    "L_3, PSI_3, proportion_of_var_3  = factor_analysis(x_cor, 1)"
   ]
  },
  {
   "cell_type": "code",
   "execution_count": 8,
   "metadata": {
    "collapsed": false
   },
   "outputs": [
    {
     "name": "stdout",
     "output_type": "stream",
     "text": [
      "The matrix factor loadings are:\n",
      " [[-0.55838924  0.27698805]\n",
      " [ 0.68401053 -0.16976227]\n",
      " [ 0.47839373  0.87152952]\n",
      " [ 0.75615704 -0.19327723]]\n",
      "\n",
      "The specific variances are:\n",
      " [ 0.61147908  0.50331037  0.01157573  0.39087044]\n",
      "\n",
      "The the proportion of variability due to the factors are:\n",
      " 0.62\n"
     ]
    }
   ],
   "source": [
    "# m = 2\n",
    "L_4, PSI_4, proportion_of_var_4  = factor_analysis(x_cor, 2)"
   ]
  },
  {
   "cell_type": "markdown",
   "metadata": {},
   "source": [
    "### (b) \n",
    "Find the angle between the first factor loading in (i) and that the first factor loading in (ii)."
   ]
  },
  {
   "cell_type": "code",
   "execution_count": 9,
   "metadata": {
    "collapsed": false
   },
   "outputs": [],
   "source": [
    "cos = np.dot(np.squeeze(L_1), L_3)/(np.linalg.norm(L_1)*np.linalg.norm(L_3))\n",
    "angle = np.degrees(np.arccos(cos))"
   ]
  },
  {
   "cell_type": "code",
   "execution_count": 10,
   "metadata": {
    "collapsed": false
   },
   "outputs": [
    {
     "data": {
      "text/plain": [
       "matrix([[ 51.14273535]])"
      ]
     },
     "execution_count": 10,
     "metadata": {},
     "output_type": "execute_result"
    }
   ],
   "source": [
    "180- angle"
   ]
  },
  {
   "cell_type": "markdown",
   "metadata": {},
   "source": [
    "### (c) \n",
    "For the m = 2 case, compare the factor loadings obtained in (i) and that in (ii) using\n",
    "orthogonal Procrustes analysis."
   ]
  },
  {
   "cell_type": "code",
   "execution_count": 15,
   "metadata": {
    "collapsed": true
   },
   "outputs": [],
   "source": [
    "M = np.dot(L_4.T, L_2)"
   ]
  },
  {
   "cell_type": "code",
   "execution_count": 16,
   "metadata": {
    "collapsed": false
   },
   "outputs": [],
   "source": [
    "U, s, V = np.linalg.svd(M, full_matrices=True)"
   ]
  },
  {
   "cell_type": "code",
   "execution_count": 17,
   "metadata": {
    "collapsed": true
   },
   "outputs": [],
   "source": [
    "R = np.dot(U, V.T)"
   ]
  },
  {
   "cell_type": "markdown",
   "metadata": {},
   "source": [
    "According to orthogonal Procrustes analysis, the orthogonal matrix R that mostly closely maps L_4 to L_2 is:"
   ]
  },
  {
   "cell_type": "code",
   "execution_count": 18,
   "metadata": {
    "collapsed": false
   },
   "outputs": [
    {
     "data": {
      "text/plain": [
       "matrix([[-0.99757205, -0.06964199],\n",
       "        [-0.06964199,  0.99757205]])"
      ]
     },
     "execution_count": 18,
     "metadata": {},
     "output_type": "execute_result"
    }
   ],
   "source": [
    "R"
   ]
  },
  {
   "cell_type": "markdown",
   "metadata": {},
   "source": [
    "### (d) \n",
    "Comment on your results:\n",
    "\n",
    "As observed, variance explained using two factors with covariance matrix is 0.96, and with correlation matrix is only 0.62, which is similar to the situation that we observed with PCA before. Similarly, it's because that we did not standarized the data before we calculate the covariance matrix. \n",
    "\n",
    "We found that the angle between the first factor loading in (i) and the first factor loading in (ii) is about 51 degree.\n",
    "\n",
    "We found that the orthogonal matrix is as shown above. "
   ]
  },
  {
   "cell_type": "markdown",
   "metadata": {},
   "source": [
    "## Question 2: Population Canonical Correlation Analysis\n",
    "\n",
    "### (a) Calculate the canonical correlation ρ1 (the largest), ρ2 (the second largest)."
   ]
  },
  {
   "cell_type": "code",
   "execution_count": 101,
   "metadata": {
    "collapsed": false
   },
   "outputs": [],
   "source": [
    "m = [[8, 2], [2, 5]]\n",
    "sigma_x = sp.linalg.fractional_matrix_power(m, -.5)\n",
    "\n",
    "m = [[6, -2], [-2, 7]]\n",
    "\n",
    "sigma_y = sp.linalg.fractional_matrix_power(m, -.5)\n",
    "\n",
    "sigma_xy = [[3, 1], [-1, 3]]\n",
    "gamma_xy = np.dot(np.dot(sigma_x, sigma_xy), sigma_y)"
   ]
  },
  {
   "cell_type": "code",
   "execution_count": 102,
   "metadata": {
    "collapsed": true
   },
   "outputs": [],
   "source": [
    "U, s, V = np.linalg.svd(gamma_xy, full_matrices=True)"
   ]
  },
  {
   "cell_type": "code",
   "execution_count": 103,
   "metadata": {
    "collapsed": false
   },
   "outputs": [
    {
     "name": "stdout",
     "output_type": "stream",
     "text": [
      "Largest canonical correlation: 0.5519\n",
      "Second largest canonical correlation: 0.4899\n"
     ]
    }
   ],
   "source": [
    "print('Largest canonical correlation: '+ format(s[0], '.4f'))\n",
    "print('Second largest canonical correlation: '+ format(s[1], '.4f'))"
   ]
  },
  {
   "cell_type": "markdown",
   "metadata": {},
   "source": [
    "### (b) Find the canonical correlation variables (U1,V1) and (U2,V2) corresponding to ρ1 and ρ2."
   ]
  },
  {
   "cell_type": "code",
   "execution_count": 130,
   "metadata": {
    "collapsed": true
   },
   "outputs": [],
   "source": [
    "X = [-3, 2]\n",
    "Y = [0, 1]"
   ]
  },
  {
   "cell_type": "code",
   "execution_count": 131,
   "metadata": {
    "collapsed": true
   },
   "outputs": [],
   "source": [
    "a_1 = np.dot(sigma_x, U[:, 0])\n",
    "b_1 = np.dot(sigma_y, V.T[:, 0])\n",
    "\n",
    "# a_1 = np.reshape(a_1, (2,1))\n",
    "# b_1 = np.reshape(b_1, (2,1))\n",
    "\n",
    "u_1 = np.dot(a_1.T, X)\n",
    "v_1 = np.dot(b_1.T, Y)"
   ]
  },
  {
   "cell_type": "code",
   "execution_count": 132,
   "metadata": {
    "collapsed": false
   },
   "outputs": [
    {
     "data": {
      "text/plain": [
       "array([-0.31682057,  0.36222686])"
      ]
     },
     "execution_count": 132,
     "metadata": {},
     "output_type": "execute_result"
    }
   ],
   "source": [
    "a_1"
   ]
  },
  {
   "cell_type": "code",
   "execution_count": 133,
   "metadata": {
    "collapsed": false
   },
   "outputs": [
    {
     "data": {
      "text/plain": [
       "array([-0.36470579,  0.09506271])"
      ]
     },
     "execution_count": 133,
     "metadata": {},
     "output_type": "execute_result"
    }
   ],
   "source": [
    "b_1"
   ]
  },
  {
   "cell_type": "code",
   "execution_count": 134,
   "metadata": {
    "collapsed": false
   },
   "outputs": [
    {
     "data": {
      "text/plain": [
       "1.6749154316486097"
      ]
     },
     "execution_count": 134,
     "metadata": {},
     "output_type": "execute_result"
    }
   ],
   "source": [
    "u_1"
   ]
  },
  {
   "cell_type": "code",
   "execution_count": 135,
   "metadata": {
    "collapsed": false
   },
   "outputs": [
    {
     "data": {
      "text/plain": [
       "0.095062712121243134"
      ]
     },
     "execution_count": 135,
     "metadata": {},
     "output_type": "execute_result"
    }
   ],
   "source": [
    "v_1"
   ]
  },
  {
   "cell_type": "code",
   "execution_count": 136,
   "metadata": {
    "collapsed": false
   },
   "outputs": [],
   "source": [
    "# a = np.dot(np.dot(a_1.T, sigma_xy), b_1)\n",
    "# b = np.dot(np.dot(a_1.T, [[8, 2], [2, 5]]), a_1)\n",
    "# c = np.dot(np.dot(b_1.T, [[6, -2], [-2, 7]]), b_1)\n",
    "# uv_corr_1 = a/(np.sqrt(b)*np.sqrt(c))\n",
    "# uv_corr_1"
   ]
  },
  {
   "cell_type": "code",
   "execution_count": 137,
   "metadata": {
    "collapsed": true
   },
   "outputs": [],
   "source": [
    "a_2 = np.dot(sigma_x, U[:, 1])\n",
    "b_2 = np.dot(sigma_y, V.T[:, 1])\n",
    "\n",
    "u_2 = np.dot(a_2.T, X)\n",
    "v_2 = np.dot(b_2.T, Y)"
   ]
  },
  {
   "cell_type": "code",
   "execution_count": 138,
   "metadata": {
    "collapsed": false
   },
   "outputs": [
    {
     "data": {
      "text/plain": [
       "array([ 0.19624886,  0.30168514])"
      ]
     },
     "execution_count": 138,
     "metadata": {},
     "output_type": "execute_result"
    }
   ],
   "source": [
    "a_2"
   ]
  },
  {
   "cell_type": "code",
   "execution_count": 139,
   "metadata": {
    "collapsed": false
   },
   "outputs": [
    {
     "data": {
      "text/plain": [
       "array([ 0.22627464,  0.38582097])"
      ]
     },
     "execution_count": 139,
     "metadata": {},
     "output_type": "execute_result"
    }
   ],
   "source": [
    "b_2"
   ]
  },
  {
   "cell_type": "code",
   "execution_count": 140,
   "metadata": {
    "collapsed": false
   },
   "outputs": [
    {
     "data": {
      "text/plain": [
       "0.014623692451229298"
      ]
     },
     "execution_count": 140,
     "metadata": {},
     "output_type": "execute_result"
    }
   ],
   "source": [
    "u_2"
   ]
  },
  {
   "cell_type": "code",
   "execution_count": 141,
   "metadata": {
    "collapsed": false
   },
   "outputs": [
    {
     "data": {
      "text/plain": [
       "0.38582096574221969"
      ]
     },
     "execution_count": 141,
     "metadata": {},
     "output_type": "execute_result"
    }
   ],
   "source": [
    "v_2"
   ]
  },
  {
   "cell_type": "code",
   "execution_count": 114,
   "metadata": {
    "collapsed": false
   },
   "outputs": [],
   "source": [
    "# a = np.dot(np.dot(a_2.T, sigma_xy), b_2)\n",
    "# b = np.dot(np.dot(a_2.T, [[8, 2], [2, 5]]), a_2)\n",
    "# c = np.dot(np.dot(b_2.T, [[6, -2], [-2, 7]]), b_2)\n",
    "# uv_corr_2 = a/(np.sqrt(b)*np.sqrt(c))\n",
    "# uv_corr_2"
   ]
  },
  {
   "cell_type": "markdown",
   "metadata": {},
   "source": [
    "### (C)"
   ]
  },
  {
   "cell_type": "code",
   "execution_count": 142,
   "metadata": {
    "collapsed": false
   },
   "outputs": [],
   "source": [
    "expectation_uv = [u_1, u_2, v_1, v_2]"
   ]
  },
  {
   "cell_type": "code",
   "execution_count": 143,
   "metadata": {
    "collapsed": false
   },
   "outputs": [
    {
     "data": {
      "text/plain": [
       "[1.6749154316486097,\n",
       " 0.014623692451229298,\n",
       " 0.095062712121243134,\n",
       " 0.38582096574221969]"
      ]
     },
     "execution_count": 143,
     "metadata": {},
     "output_type": "execute_result"
    }
   ],
   "source": [
    "expectation_uv"
   ]
  },
  {
   "cell_type": "code",
   "execution_count": 149,
   "metadata": {
    "collapsed": false
   },
   "outputs": [],
   "source": [
    "a_12 = np.array([a_1, a_2])\n",
    "b_12 = np.array([b_1, b_2])"
   ]
  },
  {
   "cell_type": "code",
   "execution_count": 150,
   "metadata": {
    "collapsed": false
   },
   "outputs": [],
   "source": [
    "sigma_uv = np.dot(np.dot(a_12.T, [[3,1], [-1, 3]]), b_12)\n",
    "t1 = np.hstack([np.identity(2), sigma_uv])\n",
    "t2 = np.hstack([sigma_uv, np.identity(2)])\n",
    "Cov_UV = np.vstack([t1, t2])"
   ]
  },
  {
   "cell_type": "code",
   "execution_count": 155,
   "metadata": {
    "collapsed": false
   },
   "outputs": [
    {
     "data": {
      "text/plain": [
       "array([[1, 0, 0, 0],\n",
       "       [0, 1, 0, 0],\n",
       "       [0, 0, 1, 0],\n",
       "       [0, 0, 0, 1]])"
      ]
     },
     "execution_count": 155,
     "metadata": {},
     "output_type": "execute_result"
    }
   ],
   "source": [
    "Cov_UV "
   ]
  },
  {
   "cell_type": "markdown",
   "metadata": {},
   "source": [
    "### (d) Comment on the correlation structure between and within U and V .\n",
    "\n",
    "Correlation between U1 and U2 is 0. Similarly, correlation between V1 and V2 is 0. Additionally, we observe correlation between U1 and V1 as 0.5519 and that between U2 and V2 as 0.4899, having the correlation between the first pair of canonical vairiables larger than the second pair."
   ]
  },
  {
   "cell_type": "markdown",
   "metadata": {},
   "source": [
    "## Question 3: Sample canonical correlation analysis\n",
    "\n",
    "### (a) \n",
    "Perform a canonical correlation analysis of these data by computing the singular value decomposition of an appropriate matrix formed from the sample covariance matrices. You may compare your result with that obtained by your software (if you use R, it is cancor(X1,X2))."
   ]
  },
  {
   "cell_type": "code",
   "execution_count": 31,
   "metadata": {
    "collapsed": false
   },
   "outputs": [],
   "source": [
    "col = 'shock, vibrate, static1, static2, distance'.split(', ')\n",
    "data = pd.read_table('http://www.stat.uchicago.edu/~lekheng/courses/331/hw3/p3.txt', sep = '  ', names = col, header = None)"
   ]
  },
  {
   "cell_type": "code",
   "execution_count": 32,
   "metadata": {
    "collapsed": false
   },
   "outputs": [],
   "source": [
    "X = data.iloc[:, :2]\n",
    "Y = data.iloc[:, 2:4]"
   ]
  },
  {
   "cell_type": "code",
   "execution_count": 52,
   "metadata": {
    "collapsed": true
   },
   "outputs": [],
   "source": [
    "def cca(X, Y, mode):\n",
    "    if mode == 'cov':\n",
    "        X_cov = np.cov(X.T)\n",
    "        Y_cov = np.cov(Y.T)\n",
    "        XY_cov = np.cov(X.T, Y.T)[:2, 2:]\n",
    "    else:\n",
    "        X_cov = np.corrcoef(X.T)\n",
    "        Y_cov = np.corrcoef(Y.T)\n",
    "        XY_cov = np.corrcoef(X.T, Y.T)[:2, 2:]\n",
    "        \n",
    "    x = sp.linalg.fractional_matrix_power(X_cov, -.5)\n",
    "    y = sp.linalg.fractional_matrix_power(Y_cov, -.5)\n",
    "    G_XY = np.dot(np.dot(x, XY_cov), y)\n",
    "    U, s, V = np.linalg.svd(G_XY, full_matrices=True)\n",
    "\n",
    "    # coefficients\n",
    "    a_1 = np.dot(x, U[:, 0])\n",
    "    b_1 = np.dot(y, V.T[:, 0])\n",
    "\n",
    "    # correlation\n",
    "    s\n",
    "\n",
    "    # projected x,y\n",
    "    u_1 = X.dot(a_1)\n",
    "    v_1 = Y.dot(b_1)\n",
    "    \n",
    "    a_2 = np.dot(x, U[:, 1])\n",
    "    b_2 = np.dot(y, V.T[:, 1])\n",
    "\n",
    "    u_2 = X.dot(a_2)\n",
    "    v_2 = Y.dot(b_2)\n",
    "    \n",
    "    return (s, a_1, b_1, u_1, v_1, a_2, b_2, u_2, v_2 )"
   ]
  },
  {
   "cell_type": "code",
   "execution_count": 34,
   "metadata": {
    "collapsed": false
   },
   "outputs": [],
   "source": [
    "s, a_1, b_1, u_1, v_1, a_2, b_2, u_2, v_2 = cca(X, Y, 'cov')"
   ]
  },
  {
   "cell_type": "code",
   "execution_count": 35,
   "metadata": {
    "collapsed": false
   },
   "outputs": [
    {
     "data": {
      "text/plain": [
       "array([ 0.91913484,  0.07463327])"
      ]
     },
     "execution_count": 35,
     "metadata": {},
     "output_type": "execute_result"
    }
   ],
   "source": [
    "s"
   ]
  },
  {
   "cell_type": "markdown",
   "metadata": {},
   "source": [
    "### (b)\n",
    "Write the first canonical correlation variables U1 and V1 as linear combinations of shock, vibrate, static1, static2."
   ]
  },
  {
   "cell_type": "code",
   "execution_count": 36,
   "metadata": {
    "collapsed": false
   },
   "outputs": [],
   "source": [
    "# i = 1\n",
    "# u_1 = np.dot(np.dot(U[:, 0].T, x), X.T)\n",
    "# v_1 = np.dot(np.dot(V.T[:, 0].T, x), X.T)"
   ]
  },
  {
   "cell_type": "code",
   "execution_count": 37,
   "metadata": {
    "collapsed": false
   },
   "outputs": [
    {
     "name": "stdout",
     "output_type": "stream",
     "text": [
      "a_1 [-0.00369591  0.00086616]\n",
      "b_1 [-0.00163167 -0.00152456]\n"
     ]
    }
   ],
   "source": [
    "print('a_1', a_1)\n",
    "print('b_1', b_1)\n",
    "# a_1 = np.reshape(a_1, (2,1))\n",
    "# b_1 = np.reshape(b_1, (2,1))\n",
    "\n",
    "# u_1 = np.dot(a_1.T, X.T)\n",
    "# v_1 = np.dot(b_1.T, Y.T)"
   ]
  },
  {
   "cell_type": "markdown",
   "metadata": {},
   "source": [
    "Thus, \n",
    "- the coefficient for `shock` is -0.00369591; \n",
    "- the coefficient for `vibrate` is 0.00086616; \n",
    "- the coefficient for `static1` is -0.00163167; \n",
    "- the coefficient for `static2` is -0.00152456"
   ]
  },
  {
   "cell_type": "markdown",
   "metadata": {},
   "source": [
    "### (c) \n",
    "Produce two scatterplots of the data: one in the coordinate plane of the first canonical correlation vectors, one in the plane of the second canonical correlation vectors."
   ]
  },
  {
   "cell_type": "code",
   "execution_count": 38,
   "metadata": {
    "collapsed": false
   },
   "outputs": [
    {
     "data": {
      "text/plain": [
       "<matplotlib.collections.PathCollection at 0x10a7d1b70>"
      ]
     },
     "execution_count": 38,
     "metadata": {},
     "output_type": "execute_result"
    },
    {
     "data": {
      "image/png": "[encoded data removed]",
      "text/plain": [
       "<matplotlib.figure.Figure at 0x10a75b860>"
      ]
     },
     "metadata": {},
     "output_type": "display_data"
    }
   ],
   "source": [
    "plt.scatter(u_1, v_1) # correlation: 0.91913484"
   ]
  },
  {
   "cell_type": "code",
   "execution_count": 39,
   "metadata": {
    "collapsed": false
   },
   "outputs": [
    {
     "data": {
      "text/plain": [
       "<matplotlib.collections.PathCollection at 0x10c923048>"
      ]
     },
     "execution_count": 39,
     "metadata": {},
     "output_type": "execute_result"
    },
    {
     "data": {
      "image/png": "[encoded data removed]",
      "text/plain": [
       "<matplotlib.figure.Figure at 0x10c8c96d8>"
      ]
     },
     "metadata": {},
     "output_type": "display_data"
    }
   ],
   "source": [
    "plt.scatter(u_2, v_2) # correlation: 0.07463327"
   ]
  },
  {
   "cell_type": "markdown",
   "metadata": {},
   "source": [
    "### (d) \n",
    "Based on the two plots and the values of the canonical correlations {ρ1,ρ2}, comment on the correlation structure captured by each canonical pair.\n",
    "\n",
    "Since the corrlations of first pair of canonical variables is the fist singular value, 0.919, and we could observe that there indeed is a strong correlation between them from the scatterplot. In contrast, there is only very weak correlation in the second plot, and it could be justified by the coefficient as low as 0.07463327."
   ]
  },
  {
   "cell_type": "markdown",
   "metadata": {},
   "source": [
    "### (e) \n",
    "Repeat (a) with sample correlation matrices in place of sample covariance matrices and verify that the pairs of canonical vectors obtained are related via scaling by the sample standard deviation matrix."
   ]
  },
  {
   "cell_type": "code",
   "execution_count": 53,
   "metadata": {
    "collapsed": true
   },
   "outputs": [],
   "source": [
    "s_, a_1_, b_1_, u_1, v_1, a_2_, b_2_, u_2, v_2 = cca(X, Y, 'cor')"
   ]
  },
  {
   "cell_type": "code",
   "execution_count": 54,
   "metadata": {
    "collapsed": false
   },
   "outputs": [
    {
     "data": {
      "text/plain": [
       "array([ 0.91913484,  0.07463327])"
      ]
     },
     "execution_count": 54,
     "metadata": {},
     "output_type": "execute_result"
    }
   ],
   "source": [
    "s_"
   ]
  },
  {
   "cell_type": "code",
   "execution_count": 55,
   "metadata": {
    "collapsed": false
   },
   "outputs": [
    {
     "name": "stdout",
     "output_type": "stream",
     "text": [
      "a_1 [-1.26583641  0.29490251]\n",
      "b_1 [-0.50902008 -0.50940343]\n"
     ]
    }
   ],
   "source": [
    "print('a_1', a_1_)\n",
    "print('b_1', b_1_)"
   ]
  },
  {
   "cell_type": "code",
   "execution_count": 56,
   "metadata": {
    "collapsed": false
   },
   "outputs": [
    {
     "name": "stdout",
     "output_type": "stream",
     "text": [
      "a_2 [-2.27461513  2.58635812]\n",
      "b_2 [ 2.64065773 -2.64058381]\n"
     ]
    }
   ],
   "source": [
    "print('a_2', a_2_)\n",
    "print('b_2', b_2_)"
   ]
  },
  {
   "cell_type": "code",
   "execution_count": 63,
   "metadata": {
    "collapsed": false
   },
   "outputs": [],
   "source": [
    "VX = sp.linalg.fractional_matrix_power(np.diag(np.var(X)), .5)\n",
    "VY = sp.linalg.fractional_matrix_power(np.diag(np.var(Y)), .5)"
   ]
  },
  {
   "cell_type": "code",
   "execution_count": 64,
   "metadata": {
    "collapsed": false
   },
   "outputs": [
    {
     "data": {
      "text/plain": [
       "array([[ 306.72003883,    0.        ],\n",
       "       [   0.        ,  328.515058  ]])"
      ]
     },
     "execution_count": 64,
     "metadata": {},
     "output_type": "execute_result"
    }
   ],
   "source": [
    "VY"
   ]
  },
  {
   "cell_type": "code",
   "execution_count": 65,
   "metadata": {
    "collapsed": false
   },
   "outputs": [
    {
     "name": "stdout",
     "output_type": "stream",
     "text": [
      "normalized a_1 with correlation matrix \n",
      " [-0.97391935  0.22689446]\n",
      "normalized a_1 with covariance matrix scaledby standard deviation matrices \n",
      " [-0.97391935  0.22689446]\n",
      "\n",
      "normalized b_1 with correlation matrix \n",
      " [-0.70684057 -0.7073729 ]\n",
      "normalized b_1 with covariance matrix scaledby standard deviation matrices \n",
      " [-0.70684057 -0.7073729 ]\n"
     ]
    }
   ],
   "source": [
    "print('normalized a_1 with correlation matrix \\n', \\\n",
    "      a_1_/np.linalg.norm(a_1_))\n",
    "\n",
    "res_1 = VX.dot(a_1)\n",
    "res_1 = res_1/np.linalg.norm(res_1)\n",
    "print('normalized a_1 with covariance matrix scaled\\\n",
    "by standard deviation matrices \\n', \\\n",
    "      res_1)\n",
    "\n",
    "print('\\nnormalized b_1 with correlation matrix \\n', \\\n",
    "      b_1_/np.linalg.norm(b_1_))\n",
    "\n",
    "res_1 = VY.dot(b_1)\n",
    "res_1 = res_1/np.linalg.norm(res_1)\n",
    "print('normalized b_1 with covariance matrix scaled\\\n",
    "by standard deviation matrices \\n', \\\n",
    "      res_1)"
   ]
  },
  {
   "cell_type": "code",
   "execution_count": 66,
   "metadata": {
    "collapsed": false
   },
   "outputs": [
    {
     "name": "stdout",
     "output_type": "stream",
     "text": [
      "normalized a_2 with correlation matrix \n",
      " [-0.66040206  0.75091219]\n",
      "normalized a_2 with covariance matrix scaled by standard deviation matrices \n",
      " [-0.66040206  0.75091219]\n",
      "\n",
      "normalized b_2 with correlation matrix \n",
      " [ 0.70711668 -0.70709688]\n",
      "normalized b_2 with covariance matrix scaled by standard deviation matrices \n",
      " [ 0.70711668 -0.70709688]\n"
     ]
    }
   ],
   "source": [
    "print('normalized a_2 with correlation matrix \\n', \\\n",
    "      a_2_/np.linalg.norm(a_2_))\n",
    "\n",
    "res_2 = VX.dot(a_2)\n",
    "res_2 = res_2/np.linalg.norm(res_2)\n",
    "print('normalized a_2 with covariance matrix scaled \\\n",
    "by standard deviation matrices \\n', \\\n",
    "      res_2)\n",
    "\n",
    "print('\\nnormalized b_2 with correlation matrix \\n', \\\n",
    "      b_2_/np.linalg.norm(b_2_))\n",
    "\n",
    "res_1 = VY.dot(b_2)\n",
    "res_1 = res_1/np.linalg.norm(res_1)\n",
    "print('normalized b_2 with covariance matrix scaled \\\n",
    "by standard deviation matrices \\n', \\\n",
    "      res_1)"
   ]
  },
  {
   "cell_type": "markdown",
   "metadata": {},
   "source": [
    "Thus, we've shown that if we use correlation matrix, the canonical vairables are scaled by the sample standard deviation matrix.\n",
    "\n",
    "## Question 4: Canonical correlation analysis for angular measurements\n",
    "\n",
    "### (a)\n",
    "\n",
    "Compute sample mean x and sample covariance matrix. Is x a good estimator of μ? Why\n",
    "or why not?\n"
   ]
  },
  {
   "cell_type": "code",
   "execution_count": 67,
   "metadata": {
    "collapsed": true
   },
   "outputs": [],
   "source": [
    "x_1 = [0.9, 0.6, 0.6, -0.9]\n",
    "x_2 = [0, 0.6, -0.6, 0]\n",
    "data = pd.DataFrame({'x1': x_1, 'x2': x_2})"
   ]
  },
  {
   "cell_type": "code",
   "execution_count": 68,
   "metadata": {
    "collapsed": false
   },
   "outputs": [
    {
     "data": {
      "text/plain": [
       "array([ 0.3,  0. ])"
      ]
     },
     "execution_count": 68,
     "metadata": {},
     "output_type": "execute_result"
    }
   ],
   "source": [
    "# sample mean\n",
    "x_bar = np.array(data.mean())\n",
    "x_bar"
   ]
  },
  {
   "cell_type": "code",
   "execution_count": 69,
   "metadata": {
    "collapsed": false
   },
   "outputs": [
    {
     "data": {
      "text/plain": [
       "array([[ 0.66,  0.  ],\n",
       "       [ 0.  ,  0.24]])"
      ]
     },
     "execution_count": 69,
     "metadata": {},
     "output_type": "execute_result"
    }
   ],
   "source": [
    "# sample covariance matrix\n",
    "np.cov(data.T)"
   ]
  },
  {
   "cell_type": "markdown",
   "metadata": {},
   "source": [
    "Sample mean is note good estimator of true expectation in this case only because sample size is too small.\n",
    "\n",
    "### (b), (c), (e) can be found in the written part\n",
    "\n",
    "### (d)"
   ]
  },
  {
   "cell_type": "code",
   "execution_count": 161,
   "metadata": {
    "collapsed": true
   },
   "outputs": [],
   "source": [
    "R = [[1, 0.166, 0.694], [0.166, 1, -0.051], [0.694, -0.051, 1]]"
   ]
  },
  {
   "cell_type": "code",
   "execution_count": 164,
   "metadata": {
    "collapsed": false
   },
   "outputs": [],
   "source": [
    "S_xy = np.matrix([0.166, 0.694])\n",
    "S_y = np.matrix([[1, -0.051], [-0.051, 1]])\n",
    "G_xy = S_xy.dot(sp.linalg.fractional_matrix_power(S_y, -.5))\n",
    "U, s, V = np.linalg.svd(G_xy, full_matrices=True)"
   ]
  },
  {
   "cell_type": "code",
   "execution_count": 165,
   "metadata": {
    "collapsed": false
   },
   "outputs": [
    {
     "name": "stdout",
     "output_type": "stream",
     "text": [
      "Largest canonical correlation(rou_1) is 0.723\n",
      "V_1 is\n",
      " [[-0.25444443]\n",
      " [-0.9670874 ]]\n"
     ]
    }
   ],
   "source": [
    "print('Largest canonical correlation(rou_1) is', format(s[0], '.3f'))\n",
    "print('V_1 is\\n', V.T[:, 0])"
   ]
  },
  {
   "cell_type": "markdown",
   "metadata": {},
   "source": [
    "### (f)"
   ]
  },
  {
   "cell_type": "code",
   "execution_count": 19,
   "metadata": {
    "collapsed": false
   },
   "outputs": [],
   "source": [
    "S_x = np.matrix([[1, -0.291], [-0.291, 1]])\n",
    "S_xy = np.matrix([[0.44, 0.372], [-0.205, 0.243]])\n",
    "S_y = np.matrix([[1, 0.181], [0.181, 1]])\n",
    "G_xy = sp.linalg.fractional_matrix_power(S_x, -.5).dot(S_xy).dot(sp.linalg.fractional_matrix_power(S_y, -.5))\n",
    "U, s, V = np.linalg.svd(G_xy, full_matrices=True)"
   ]
  },
  {
   "cell_type": "code",
   "execution_count": 22,
   "metadata": {
    "collapsed": false
   },
   "outputs": [
    {
     "name": "stdout",
     "output_type": "stream",
     "text": [
      "Largest canonical correlation(rou_1) is 0.567\n",
      "U_1 is\n",
      " [[ 0.95343944]\n",
      " [ 0.30158453]]\n",
      "V_1 is\n",
      " [[ 0.56289131]\n",
      " [ 0.82653093]]\n"
     ]
    }
   ],
   "source": [
    "print('Largest canonical correlation(rou_1) is', format(s[0], '.3f'))\n",
    "print('U_1 is\\n', U[:, 0])\n",
    "print('V_1 is\\n', V.T[:, 0])"
   ]
  },
  {
   "cell_type": "markdown",
   "metadata": {},
   "source": [
    "## Question 6: Linear discriminant analysis\n",
    "The admissions committee of a business school used GPA and GMAT scores to make admission decisions. The values for the variable admit = 1,2,3 corre- spond to admission decisions of yes, no, waitlist. Label the data set p6.txt — helpful R commands:\n",
    "gsbdata = read.table(\"p6.txt\"); colnames(gsbdata)=c(\"GPA\", \"GMAT\",\"admit\");\n",
    "\n",
    "### (a) \n",
    "Calculate xi, x and Spool."
   ]
  },
  {
   "cell_type": "code",
   "execution_count": 156,
   "metadata": {
    "collapsed": false
   },
   "outputs": [],
   "source": [
    "col = [\"GPA\", \"GMAT\",\"admit\"]\n",
    "data = pd.read_table('http://www.stat.uchicago.edu/~lekheng/courses/331/hw3/p6.txt', sep = '  ', names = col, header = None)"
   ]
  },
  {
   "cell_type": "code",
   "execution_count": 157,
   "metadata": {
    "collapsed": false
   },
   "outputs": [
    {
     "data": {
      "text/plain": [
       "GPA       2.972824\n",
       "GMAT    488.447059\n",
       "dtype: float64"
      ]
     },
     "execution_count": 157,
     "metadata": {},
     "output_type": "execute_result"
    }
   ],
   "source": [
    "#x_bar:\n",
    "\n",
    "data.mean()[:2]"
   ]
  },
  {
   "cell_type": "code",
   "execution_count": 158,
   "metadata": {
    "collapsed": false
   },
   "outputs": [],
   "source": [
    "x_bar = data.mean()[:2]"
   ]
  },
  {
   "cell_type": "code",
   "execution_count": 159,
   "metadata": {
    "collapsed": false
   },
   "outputs": [
    {
     "data": {
      "text/html": [
       "<div>\n",
       "<table border=\"1\" class=\"dataframe\">\n",
       "  <thead>\n",
       "    <tr style=\"text-align: right;\">\n",
       "      <th></th>\n",
       "      <th>GPA</th>\n",
       "      <th>GMAT</th>\n",
       "    </tr>\n",
       "    <tr>\n",
       "      <th>admit</th>\n",
       "      <th></th>\n",
       "      <th></th>\n",
       "    </tr>\n",
       "  </thead>\n",
       "  <tbody>\n",
       "    <tr>\n",
       "      <th>1</th>\n",
       "      <td>3.411935</td>\n",
       "      <td>561.225806</td>\n",
       "    </tr>\n",
       "    <tr>\n",
       "      <th>2</th>\n",
       "      <td>2.468214</td>\n",
       "      <td>447.071429</td>\n",
       "    </tr>\n",
       "    <tr>\n",
       "      <th>3</th>\n",
       "      <td>2.992692</td>\n",
       "      <td>446.230769</td>\n",
       "    </tr>\n",
       "  </tbody>\n",
       "</table>\n",
       "</div>"
      ],
      "text/plain": [
       "            GPA        GMAT\n",
       "admit                      \n",
       "1      3.411935  561.225806\n",
       "2      2.468214  447.071429\n",
       "3      2.992692  446.230769"
      ]
     },
     "execution_count": 159,
     "metadata": {},
     "output_type": "execute_result"
    }
   ],
   "source": [
    "# x_i_bar:\n",
    "temp = data.groupby('admit').mean()\n",
    "temp"
   ]
  },
  {
   "cell_type": "code",
   "execution_count": 160,
   "metadata": {
    "collapsed": true
   },
   "outputs": [],
   "source": [
    "x_1_bar = temp.iloc[0, :]\n",
    "x_2_bar = temp.iloc[1, :]\n",
    "x_3_bar = temp.iloc[2, :]"
   ]
  },
  {
   "cell_type": "code",
   "execution_count": 161,
   "metadata": {
    "collapsed": false
   },
   "outputs": [
    {
     "data": {
      "text/plain": [
       "GPA       3.411935\n",
       "GMAT    561.225806\n",
       "Name: 1, dtype: float64"
      ]
     },
     "execution_count": 161,
     "metadata": {},
     "output_type": "execute_result"
    }
   ],
   "source": [
    "x_1_bar"
   ]
  },
  {
   "cell_type": "code",
   "execution_count": 162,
   "metadata": {
    "collapsed": false
   },
   "outputs": [],
   "source": [
    "s_pool = 0\n",
    "for i in range(3):\n",
    "    g = i+1\n",
    "    x_i = data[data['admit'] == g][['GPA', 'GMAT']]\n",
    "    x_i_bar = temp.iloc[i, :]\n",
    "    n = len(x_i)\n",
    "    sth = x_i.apply(lambda x: np.array(x)- np.array(x_i_bar), 1)\n",
    "    S_i = np.dot(sth.T, sth)\n",
    "    s_pool += S_i\n",
    "    \n",
    "s_pool = s_pool/(len(data)-3)"
   ]
  },
  {
   "cell_type": "code",
   "execution_count": 29,
   "metadata": {
    "collapsed": false
   },
   "outputs": [
    {
     "data": {
      "text/plain": [
       "array([[  3.81390991e-02,  -1.84044062e+00],\n",
       "       [ -1.84044062e+00,   3.65590112e+03]])"
      ]
     },
     "execution_count": 29,
     "metadata": {},
     "output_type": "execute_result"
    }
   ],
   "source": [
    "s_pool"
   ]
  },
  {
   "cell_type": "markdown",
   "metadata": {},
   "source": [
    "### (b) \n",
    "Calculate the sample within groups matrix W, its inverse W−1, and the sample between\n",
    "groups matrix B. Find the eigenvalues and eigenvectors of W−1B. (R command for A−1\n",
    "is solve(A))."
   ]
  },
  {
   "cell_type": "code",
   "execution_count": 165,
   "metadata": {
    "collapsed": false
   },
   "outputs": [],
   "source": [
    "W = (85-3)*s_pool"
   ]
  },
  {
   "cell_type": "code",
   "execution_count": 166,
   "metadata": {
    "collapsed": false
   },
   "outputs": [
    {
     "data": {
      "text/plain": [
       "array([[  3.12740612e+00,  -1.50916131e+02],\n",
       "       [ -1.50916131e+02,   2.99783892e+05]])"
      ]
     },
     "execution_count": 166,
     "metadata": {},
     "output_type": "execute_result"
    }
   ],
   "source": [
    "W"
   ]
  },
  {
   "cell_type": "code",
   "execution_count": 167,
   "metadata": {
    "collapsed": false
   },
   "outputs": [
    {
     "data": {
      "text/plain": [
       "array([[  3.27714937e-01,   1.64977078e-04],\n",
       "       [  1.64977078e-04,   3.41878843e-06]])"
      ]
     },
     "execution_count": 167,
     "metadata": {},
     "output_type": "execute_result"
    }
   ],
   "source": [
    "W_inv = np.linalg.inv(W)\n",
    "W_inv"
   ]
  },
  {
   "cell_type": "code",
   "execution_count": 168,
   "metadata": {
    "collapsed": false
   },
   "outputs": [
    {
     "data": {
      "text/plain": [
       "array([[  1.31173162e+01,   1.55348884e+03],\n",
       "       [  1.55348884e+03,   2.58471120e+05]])"
      ]
     },
     "execution_count": 168,
     "metadata": {},
     "output_type": "execute_result"
    }
   ],
   "source": [
    "B = 0\n",
    "for i in range(3):\n",
    "    g = i+1\n",
    "    x_i = data[data['admit'] == g][['GPA', 'GMAT']]\n",
    "    n = len(x_i)\n",
    "    x_i_bar = temp.iloc[i, :]\n",
    "    sth = x_i_bar - x_bar\n",
    "#     print(sth)\n",
    "    sth = np.reshape(sth, (2,1))\n",
    "    b = n*np.dot(sth, sth.T)\n",
    "    B += b\n",
    "#     print(b)\n",
    "    \n",
    "B"
   ]
  },
  {
   "cell_type": "code",
   "execution_count": 169,
   "metadata": {
    "collapsed": false
   },
   "outputs": [],
   "source": [
    "# x_i = data[data['admit'] == 1][['GPA', 'GMAT']]\n",
    "# n = len(x_i)\n",
    "# x_i_bar = temp.iloc[i, :]\n",
    "# sth = x_i_bar - x_bar\n",
    "# print(sth)\n",
    "# sth = np.reshape(sth, (2,1))\n",
    "# b = n*np.dot(sth, sth.T)\n",
    "# B += b\n",
    "# print(b)"
   ]
  },
  {
   "cell_type": "code",
   "execution_count": 170,
   "metadata": {
    "collapsed": false
   },
   "outputs": [
    {
     "data": {
      "text/plain": [
       "array([ 5.50079607,  0.19418257])"
      ]
     },
     "execution_count": 170,
     "metadata": {},
     "output_type": "execute_result"
    }
   ],
   "source": [
    "l = np.dot(W_inv, B)\n",
    "values, vectors = np.linalg.eig(l)\n",
    "values"
   ]
  },
  {
   "cell_type": "code",
   "execution_count": 171,
   "metadata": {
    "collapsed": false
   },
   "outputs": [],
   "source": [
    "eig_val_1 = values[0]"
   ]
  },
  {
   "cell_type": "code",
   "execution_count": 172,
   "metadata": {
    "collapsed": false
   },
   "outputs": [
    {
     "data": {
      "text/plain": [
       "array([[ 0.99999853, -0.99996877],\n",
       "       [ 0.00171414,  0.00790352]])"
      ]
     },
     "execution_count": 172,
     "metadata": {},
     "output_type": "execute_result"
    }
   ],
   "source": [
    "vectors"
   ]
  },
  {
   "cell_type": "code",
   "execution_count": 173,
   "metadata": {
    "collapsed": false
   },
   "outputs": [
    {
     "data": {
      "text/plain": [
       "array([[ 0.99999853],\n",
       "       [ 0.00171414]])"
      ]
     },
     "execution_count": 173,
     "metadata": {},
     "output_type": "execute_result"
    }
   ],
   "source": [
    "eig_vec_1 = vectors[:,0]\n",
    "eig_vec_1 = np.reshape(eig_vec_1, (2,1))\n",
    "eig_vec_1"
   ]
  },
  {
   "cell_type": "code",
   "execution_count": 174,
   "metadata": {
    "collapsed": false
   },
   "outputs": [
    {
     "data": {
      "text/plain": [
       "array([[-0.99996877],\n",
       "       [ 0.00790352]])"
      ]
     },
     "execution_count": 174,
     "metadata": {},
     "output_type": "execute_result"
    }
   ],
   "source": [
    "eig_vec_2 = vectors[:,1]\n",
    "eig_vec_2 = np.reshape(eig_vec_2, (2,1))\n",
    "eig_vec_2"
   ]
  },
  {
   "cell_type": "markdown",
   "metadata": {},
   "source": [
    "### (c) \n"
   ]
  },
  {
   "cell_type": "code",
   "execution_count": 175,
   "metadata": {
    "collapsed": true
   },
   "outputs": [],
   "source": [
    "t_1 = np.reshape([3.21, 497], (2,1))\n",
    "t_2 = np.reshape([3.22, 497], (2,1))"
   ]
  },
  {
   "cell_type": "code",
   "execution_count": 176,
   "metadata": {
    "collapsed": false
   },
   "outputs": [
    {
     "data": {
      "text/plain": [
       "array([[-0.31202708]])"
      ]
     },
     "execution_count": 176,
     "metadata": {},
     "output_type": "execute_result"
    }
   ],
   "source": [
    "#g = 1\n",
    "np.dot(eig_vec_1.T, (t_1 - np.reshape(x_1_bar, (2,1))))"
   ]
  },
  {
   "cell_type": "code",
   "execution_count": 177,
   "metadata": {
    "collapsed": false
   },
   "outputs": [
    {
     "data": {
      "text/plain": [
       "array([[ 0.82736909]])"
      ]
     },
     "execution_count": 177,
     "metadata": {},
     "output_type": "execute_result"
    }
   ],
   "source": [
    "np.dot(eig_vec_1.T, (t_1 - np.reshape(x_2_bar, (2,1))))"
   ]
  },
  {
   "cell_type": "code",
   "execution_count": 178,
   "metadata": {
    "collapsed": false
   },
   "outputs": [
    {
     "data": {
      "text/plain": [
       "array([[ 0.30433284]])"
      ]
     },
     "execution_count": 178,
     "metadata": {},
     "output_type": "execute_result"
    }
   ],
   "source": [
    "np.dot(eig_vec_1.T, (t_1 - np.reshape(x_3_bar, (2,1))))"
   ]
  },
  {
   "cell_type": "markdown",
   "metadata": {},
   "source": [
    "So, the first test data point should be classified to group 3"
   ]
  },
  {
   "cell_type": "code",
   "execution_count": 179,
   "metadata": {
    "collapsed": false
   },
   "outputs": [
    {
     "data": {
      "text/plain": [
       "array([[-0.3020271]])"
      ]
     },
     "execution_count": 179,
     "metadata": {},
     "output_type": "execute_result"
    }
   ],
   "source": [
    "np.dot(eig_vec_1.T, (t_2 - np.reshape(x_1_bar, (2,1))))"
   ]
  },
  {
   "cell_type": "code",
   "execution_count": 180,
   "metadata": {
    "collapsed": false
   },
   "outputs": [
    {
     "data": {
      "text/plain": [
       "array([[ 0.83736907]])"
      ]
     },
     "execution_count": 180,
     "metadata": {},
     "output_type": "execute_result"
    }
   ],
   "source": [
    "np.dot(eig_vec_1.T, (t_2 - np.reshape(x_2_bar, (2,1))))"
   ]
  },
  {
   "cell_type": "code",
   "execution_count": 181,
   "metadata": {
    "collapsed": false
   },
   "outputs": [
    {
     "data": {
      "text/plain": [
       "array([[ 0.31433283]])"
      ]
     },
     "execution_count": 181,
     "metadata": {},
     "output_type": "execute_result"
    }
   ],
   "source": [
    "np.dot(eig_vec_1.T, (t_2 - np.reshape(x_3_bar, (2,1))))"
   ]
  },
  {
   "cell_type": "markdown",
   "metadata": {},
   "source": [
    "Thus, the second test data point should be classfied to group 1\n"
   ]
  },
  {
   "cell_type": "markdown",
   "metadata": {},
   "source": [
    "### (d) \n",
    "Scatterplot the original data set on the plane of the first two discriminants, labeled by\n",
    "admission decisions. Comment on the results in (c). Is this a good admission policy?"
   ]
  },
  {
   "cell_type": "code",
   "execution_count": 61,
   "metadata": {
    "collapsed": false
   },
   "outputs": [
    {
     "data": {
      "image/png": "[encoded data removed]",
      "text/plain": [
       "<matplotlib.figure.Figure at 0x10a9c0780>"
      ]
     },
     "metadata": {},
     "output_type": "display_data"
    }
   ],
   "source": [
    "d_1 = []\n",
    "d_2 = []\n",
    "\n",
    "for row in data.values:\n",
    "    t = np.reshape(row[:2], (2,1))\n",
    "    v1 = np.dot(eig_vec_1.T, t)\n",
    "    v2 = np.dot(eig_vec_2.T, t)\n",
    "    l = row[-1]\n",
    "    \n",
    "    if l == 1:\n",
    "        c = 'r'\n",
    "    elif l == 2:\n",
    "        c = 'b'\n",
    "    else:\n",
    "        c = 'g'\n",
    "    plt.scatter(v1, v2, c = c)\n",
    "    \n",
    "    plt.annotate(\n",
    "        l,\n",
    "        xy=(v1, v2), xytext=(0, 0),\n",
    "        textcoords='offset points')\n",
    "\n",
    "plt.xlabel('D1')\n",
    "plt.ylabel('D2')\n",
    "plt.show()\n"
   ]
  },
  {
   "cell_type": "markdown",
   "metadata": {},
   "source": [
    "As observed, there are indeed three clusters in the scatterplot; however, it does not seem to be perfectly linearly separable. I think it's a reasonable admission policy but there could be better ones.\n",
    "\n",
    "\n",
    "\n",
    "## Question 7: Correspondence Analysis\n",
    "\n",
    "A client of a law firm would like to visualize the number of large class-action lawsuits each year across different industries from 2011 to the first half of 2017. The correspondence analysis provides a means of displaying or summarizing a set of categorical data in two-dimensional graphical form. The data on class-action lawsuits are from annual reports of Stanford Law School’s Securities Class Action Clearinghouse. To load the data in R, you can use the following command:\n",
    "\n",
    "\n",
    "### (a) \n",
    "\n",
    "What are the dimensions, n and p, in this dataset?"
   ]
  },
  {
   "cell_type": "code",
   "execution_count": 63,
   "metadata": {
    "collapsed": false
   },
   "outputs": [],
   "source": [
    "data = pd.read_table('http://www.stat.uchicago.edu/~lekheng/courses/331/hw3/classaction_lawsuit.csv', sep = ',').\\\n",
    "    set_index('Industry')"
   ]
  },
  {
   "cell_type": "code",
   "execution_count": 64,
   "metadata": {
    "collapsed": false
   },
   "outputs": [
    {
     "data": {
      "text/plain": [
       "(10, 7)"
      ]
     },
     "execution_count": 64,
     "metadata": {},
     "output_type": "execute_result"
    }
   ],
   "source": [
    "data.shape"
   ]
  },
  {
   "cell_type": "code",
   "execution_count": 65,
   "metadata": {
    "collapsed": true
   },
   "outputs": [],
   "source": [
    "n = 10\n",
    "p = 7"
   ]
  },
  {
   "cell_type": "markdown",
   "metadata": {},
   "source": [
    "n = 10, p = 7\n",
    "### (b) \n",
    "Show 1 is an eigenvalue of matrices D−1XD−1XT and D−1XTD−1X and that the corresponding eigenvectors are proportional to 1 = [1, . . . , 1]T."
   ]
  },
  {
   "cell_type": "code",
   "execution_count": 66,
   "metadata": {
    "collapsed": false
   },
   "outputs": [],
   "source": [
    "# sum by n\n",
    "D_r = np.diag(data.sum(1))\n",
    "\n",
    "# sum by p\n",
    "D_c = np.diag(data.sum(0))"
   ]
  },
  {
   "cell_type": "code",
   "execution_count": 67,
   "metadata": {
    "collapsed": false
   },
   "outputs": [],
   "source": [
    "Mat_1 = np.linalg.inv(D_r).dot(data).dot(np.linalg.inv(D_c)).dot(data.T)\n",
    "Mat_2 = np.linalg.inv(D_c).dot(data.T).dot(np.linalg.inv(D_r)).dot(data)"
   ]
  },
  {
   "cell_type": "code",
   "execution_count": 68,
   "metadata": {
    "collapsed": false
   },
   "outputs": [],
   "source": [
    "val_1, vec_1 = np.linalg.eig(Mat_1)\n",
    "val_2, vec_2 = np.linalg.eig(Mat_1)"
   ]
  },
  {
   "cell_type": "code",
   "execution_count": 69,
   "metadata": {
    "collapsed": false
   },
   "outputs": [
    {
     "name": "stdout",
     "output_type": "stream",
     "text": [
      "First eigenvalue of matrix 1:  1.0\n",
      "And its corresponding eigenvector of matrix 1: \n",
      " [-0.31622777 -0.31622777 -0.31622777 -0.31622777 -0.31622777 -0.31622777\n",
      " -0.31622777 -0.31622777 -0.31622777 -0.31622777]\n",
      "\n",
      "\n",
      "First eigenvalue of matrix 2:  1.0\n",
      "And its corresponding eigenvector of matrix 2: \n",
      " [-0.31622777 -0.31622777 -0.31622777 -0.31622777 -0.31622777 -0.31622777\n",
      " -0.31622777 -0.31622777 -0.31622777 -0.31622777]\n"
     ]
    }
   ],
   "source": [
    "print('First eigenvalue of matrix 1: ', val_1[0])\n",
    "print('And its corresponding eigenvector of matrix 1: \\n', vec_1[:,0])\n",
    "\n",
    "print('\\n\\nFirst eigenvalue of matrix 2: ', val_2[0])\n",
    "print('And its corresponding eigenvector of matrix 2: \\n', vec_2[:,0])"
   ]
  },
  {
   "cell_type": "markdown",
   "metadata": {},
   "source": [
    "Thus, 1 is an eigenvalue of both matrices and the corresponding eigenvectors are proportional to 1 = [1, . . . , 1]T."
   ]
  },
  {
   "cell_type": "markdown",
   "metadata": {},
   "source": [
    "### （c）"
   ]
  },
  {
   "cell_type": "code",
   "execution_count": 70,
   "metadata": {
    "collapsed": false
   },
   "outputs": [],
   "source": [
    "s = sum(data.sum())"
   ]
  },
  {
   "cell_type": "code",
   "execution_count": 71,
   "metadata": {
    "collapsed": false
   },
   "outputs": [],
   "source": [
    "a = D_r.dot(np.ones(n))\n",
    "b = D_c.dot(np.ones(p))\n",
    "\n",
    "a = np.reshape(a, (n,1))\n",
    "b = np.reshape(b, (p,1))"
   ]
  },
  {
   "cell_type": "code",
   "execution_count": 72,
   "metadata": {
    "collapsed": false
   },
   "outputs": [],
   "source": [
    "part_1 = np.sqrt(s)*sp.linalg.fractional_matrix_power(D_r, -.5)\n",
    "part_2 = data - (a.dot(b.T))/s\n",
    "part_3 = sp.linalg.fractional_matrix_power(D_c, -.5)\n",
    "\n",
    "Y = part_1.dot(part_2).dot(part_3)"
   ]
  },
  {
   "cell_type": "code",
   "execution_count": 73,
   "metadata": {
    "collapsed": true
   },
   "outputs": [],
   "source": [
    "U, s, V = np.linalg.svd(Y, full_matrices=True)"
   ]
  },
  {
   "cell_type": "code",
   "execution_count": 74,
   "metadata": {
    "collapsed": false
   },
   "outputs": [
    {
     "data": {
      "text/plain": [
       "array([  5.73722705e+00,   3.48561973e+00,   2.53814191e+00,\n",
       "         2.18628858e+00,   1.64007823e+00,   8.15471084e-01,\n",
       "         4.67193599e-16])"
      ]
     },
     "execution_count": 74,
     "metadata": {},
     "output_type": "execute_result"
    }
   ],
   "source": [
    "s"
   ]
  },
  {
   "cell_type": "code",
   "execution_count": 75,
   "metadata": {
    "collapsed": false
   },
   "outputs": [
    {
     "data": {
      "text/plain": [
       "array([[ 0.11569459, -0.46362794, -0.26833918,  0.24322243,  0.08234483,\n",
       "        -0.58462755, -0.32859686, -0.03406507, -0.33744519,  0.26253611],\n",
       "       [ 0.61181225, -0.02577351,  0.2859009 ,  0.10007425, -0.23850491,\n",
       "         0.20644148, -0.22886299, -0.61615103, -0.04174858, -0.00115908],\n",
       "       [-0.29758227,  0.23987694, -0.33741305,  0.48763066,  0.18938748,\n",
       "         0.48428286, -0.07934086, -0.23924716, -0.37668545,  0.16263154],\n",
       "       [-0.20879551,  0.29223812, -0.52745584, -0.24501401, -0.43707766,\n",
       "        -0.19826465, -0.35104998, -0.2819384 ,  0.16976189, -0.26621341],\n",
       "       [-0.12038179, -0.21425627,  0.04212567, -0.04296009, -0.03028627,\n",
       "         0.34593532, -0.58030112,  0.21193083,  0.47803908,  0.45299934],\n",
       "       [-0.49267533,  0.01152403,  0.41794567, -0.33953994, -0.28315819,\n",
       "        -0.10267615,  0.05211679, -0.2723423 , -0.34698689,  0.42327877],\n",
       "       [-0.23145585, -0.34210373, -0.0260386 , -0.30271627,  0.6244236 ,\n",
       "         0.03423596, -0.02373902, -0.51045089,  0.18724657, -0.22319549],\n",
       "       [ 0.04048253,  0.51894513,  0.34160977, -0.09187353,  0.40131814,\n",
       "        -0.18620038, -0.5517876 ,  0.16472951, -0.22313455, -0.16370068],\n",
       "       [-0.16132786,  0.29996599,  0.19147734,  0.49907532,  0.08272728,\n",
       "        -0.41681631,  0.15039192, -0.26655248,  0.52808391,  0.2124471 ],\n",
       "       [ 0.37641955,  0.34508497, -0.35171802, -0.40832031,  0.265574  ,\n",
       "        -0.04429036,  0.20736055, -0.06810186,  0.03213388,  0.57239289]])"
      ]
     },
     "execution_count": 75,
     "metadata": {},
     "output_type": "execute_result"
    }
   ],
   "source": [
    "U"
   ]
  },
  {
   "cell_type": "code",
   "execution_count": 76,
   "metadata": {
    "collapsed": false
   },
   "outputs": [
    {
     "data": {
      "text/plain": [
       "array([[-0.57379292, -0.07634614, -0.32402198,  0.24508385, -0.21364698,\n",
       "         0.66295823,  0.12131763],\n",
       "       [-0.15736402,  0.27822315, -0.10877161, -0.58436249,  0.57529803,\n",
       "         0.30726707, -0.34516197],\n",
       "       [-0.39099457,  0.5053886 , -0.28515102,  0.02646065,  0.17710728,\n",
       "        -0.4658294 ,  0.51120477],\n",
       "       [ 0.55162322, -0.13831927, -0.70252076, -0.24605507, -0.04599342,\n",
       "         0.13586235,  0.31926027],\n",
       "       [ 0.18354261,  0.71433212, -0.00423977, -0.10402203, -0.61084716,\n",
       "         0.12420089, -0.23799803],\n",
       "       [-0.13003898, -0.14205001,  0.43157291, -0.6335539 , -0.28024133,\n",
       "         0.12908312,  0.52921477],\n",
       "       [-0.37180007, -0.33431229, -0.34936918, -0.35355339, -0.37180007,\n",
       "        -0.44556639, -0.40764748]])"
      ]
     },
     "execution_count": 76,
     "metadata": {},
     "output_type": "execute_result"
    }
   ],
   "source": [
    "V"
   ]
  },
  {
   "cell_type": "markdown",
   "metadata": {},
   "source": [
    "Another way of expressing Y is with:"
   ]
  },
  {
   "cell_type": "code",
   "execution_count": 84,
   "metadata": {
    "collapsed": false
   },
   "outputs": [
    {
     "data": {
      "image/png": "[encoded data removed]",
      "text/plain": [
       "<IPython.core.display.Image object>"
      ]
     },
     "execution_count": 84,
     "metadata": {},
     "output_type": "execute_result"
    }
   ],
   "source": [
    "Image(filename='Y.png')"
   ]
  },
  {
   "cell_type": "markdown",
   "metadata": {},
   "source": [
    "### (d) \n",
    "Write down the formula to compute row weight vectors and column weight vectors. How many different row weight vectors and column weight vectors are there? Report all row weight vectors and column weight vectors.\n",
    "\n",
    "Formula: "
   ]
  },
  {
   "cell_type": "code",
   "execution_count": 113,
   "metadata": {
    "collapsed": false
   },
   "outputs": [
    {
     "data": {
      "image/png": "[encoded data removed]",
      "text/plain": [
       "<IPython.core.display.Image object>"
      ]
     },
     "execution_count": 113,
     "metadata": {},
     "output_type": "execute_result"
    }
   ],
   "source": [
    "Image(filename='f.png')"
   ]
  },
  {
   "cell_type": "code",
   "execution_count": 78,
   "metadata": {
    "collapsed": false
   },
   "outputs": [
    {
     "data": {
      "text/plain": [
       "6"
      ]
     },
     "execution_count": 78,
     "metadata": {},
     "output_type": "execute_result"
    }
   ],
   "source": [
    "np.linalg.matrix_rank(Y)\n",
    "#Since there are 6 distinct singular values, there should be 6 different row weight vectors and column vectors."
   ]
  },
  {
   "cell_type": "code",
   "execution_count": 79,
   "metadata": {
    "collapsed": false
   },
   "outputs": [
    {
     "name": "stdout",
     "output_type": "stream",
     "text": [
      "r_1 is:\n",
      " [ 0.05199017  0.1645563  -0.15149812 -0.10426444 -0.05837123 -0.23079013\n",
      " -0.12777866  0.03284617 -0.21234137  0.5399011 ]\n",
      "r_2 is:\n",
      " [-0.12657729 -0.00421161  0.07419363  0.08866045 -0.06311746  0.00327974\n",
      " -0.11474293  0.25580937  0.23986961  0.30070875]\n",
      "r_3 is:\n",
      " [-0.05334653  0.03401933 -0.07599341 -0.11652391  0.00903647  0.0866144\n",
      " -0.00635948  0.12261996  0.11149528 -0.22317756]\n",
      "r_4 is:\n",
      " [ 0.04165022  0.01025709  0.0946012  -0.0466242  -0.00793796 -0.06061118\n",
      " -0.06368415 -0.02840618  0.25032071 -0.22317651]\n",
      "r_5 is:\n",
      " [ 0.01057809 -0.01833818  0.0275622  -0.06239305 -0.00419804 -0.03791823\n",
      "  0.09854441  0.09308257  0.03112694  0.10889054]\n",
      "r_6 is:\n",
      " [-0.0373417   0.00789223  0.03504336 -0.01407236  0.02384182 -0.00683648\n",
      "  0.00268645 -0.02147356 -0.07797879 -0.00902938]\n"
     ]
    }
   ],
   "source": [
    "# all row vectors\n",
    "for x in range(6):\n",
    "    r = s[x]*sp.linalg.fractional_matrix_power(D_r, -.5).dot(U[:, x])\n",
    "    print('r_'+str(x+1)+' is:\\n', r)"
   ]
  },
  {
   "cell_type": "code",
   "execution_count": 80,
   "metadata": {
    "collapsed": false
   },
   "outputs": [
    {
     "name": "stdout",
     "output_type": "stream",
     "text": [
      "c_1 is:\n",
      " [-0.24009234 -0.07322943 -0.17410799  0.24272813  0.07679979 -0.04540396\n",
      " -0.1418918 ]\n",
      "c_2 is:\n",
      " [-0.01940833  0.07865955  0.13672609 -0.03697756  0.1815939  -0.03013279\n",
      " -0.07751364]\n",
      "c_3 is:\n",
      " [-0.05998069 -0.02239287 -0.05617419 -0.13675733 -0.00078484  0.06666351\n",
      " -0.05898564]\n",
      "c_4 is:\n",
      " [ 0.03907898 -0.10362583  0.00449008 -0.04125868 -0.01658647 -0.08429643\n",
      " -0.05141718]\n",
      "c_5 is:\n",
      " [-0.02555538  0.0765307   0.02254483 -0.00578543 -0.07306648 -0.02797144\n",
      " -0.04056204]\n",
      "c_6 is:\n",
      " [ 0.039429    0.0203237  -0.02948366  0.00849734  0.00738677  0.00640614\n",
      " -0.02416945]\n"
     ]
    }
   ],
   "source": [
    "# all column vectors\n",
    "for x in range(6):\n",
    "    r = s[x]*sp.linalg.fractional_matrix_power(D_c, -.5).dot(V[:, x])\n",
    "    print('c_'+str(x+1)+' is:\\n', r)"
   ]
  },
  {
   "cell_type": "markdown",
   "metadata": {},
   "source": [
    "### (e) \n",
    "Similar to PCA, makes the following two plots:\n",
    "Scatterplot of the first two row weight vectors: Does this scatterplot inform us about year or industry? What do you learn from this scatterplot?\n",
    "2D biplot: What do you learn from the biplot?"
   ]
  },
  {
   "cell_type": "code",
   "execution_count": 118,
   "metadata": {
    "collapsed": true
   },
   "outputs": [],
   "source": [
    "r_1 = s[0]*sp.linalg.fractional_matrix_power(D_r, -.5).dot(U[:, 0])\n",
    "r_2 = s[1]*sp.linalg.fractional_matrix_power(D_r, -.5).dot(U[:, 1])\n",
    "\n",
    "c_1 = s[0]*sp.linalg.fractional_matrix_power(D_c, -.5).dot(V[:, 0])\n",
    "c_2 = s[1]*sp.linalg.fractional_matrix_power(D_c, -.5).dot(V[:, 1])"
   ]
  },
  {
   "cell_type": "code",
   "execution_count": 119,
   "metadata": {
    "collapsed": false
   },
   "outputs": [],
   "source": [
    "industries = list(data.index)\n",
    "years = list(data.columns)"
   ]
  },
  {
   "cell_type": "code",
   "execution_count": 120,
   "metadata": {
    "collapsed": false
   },
   "outputs": [
    {
     "data": {
      "image/png": "[encoded data removed]",
      "text/plain": [
       "<matplotlib.figure.Figure at 0x10d1166d8>"
      ]
     },
     "metadata": {},
     "output_type": "display_data"
    }
   ],
   "source": [
    "plt.scatter(r_1, r_2)\n",
    "plt.xlabel('r_1')\n",
    "plt.xlabel('r_2')\n",
    "for label, x, y in zip(list(industries), r_1, r_2):\n",
    "    plt.annotate(\n",
    "        label,\n",
    "        xy=(x, y), xytext=(0, 0),\n",
    "        textcoords='offset points')"
   ]
  },
  {
   "cell_type": "markdown",
   "metadata": {},
   "source": [
    "This scatterplot inform us industries because it's from row weight vector. We learnt that `Utilitie, Materials and Unknown` seem to be outliers, while `Technology and Industrial` seem to have similar pattern over the years."
   ]
  },
  {
   "cell_type": "code",
   "execution_count": 121,
   "metadata": {
    "collapsed": false
   },
   "outputs": [
    {
     "data": {
      "image/png": "[encoded data removed]",
      "text/plain": [
       "<matplotlib.figure.Figure at 0x10d1722e8>"
      ]
     },
     "metadata": {},
     "output_type": "display_data"
    }
   ],
   "source": [
    "plt.scatter(r_1, r_2)\n",
    "# plt.xlabel('r_1')\n",
    "# plt.xlabel('r_2')\n",
    "for label, x, y in zip(list(industries), r_1, r_2):\n",
    "    plt.annotate(\n",
    "        label,\n",
    "        xy=(x, y), xytext=(0, 0),\n",
    "        textcoords='offset points')\n",
    "    \n",
    "plt.scatter(c_1, c_2, c = 'r')\n",
    "# plt.xlabel('r_1')\n",
    "# plt.xlabel('r_2')\n",
    "for label, x, y in zip(list(years), c_1, c_2):\n",
    "    plt.annotate(\n",
    "        label,\n",
    "        xy=(x, y), xytext=(0, 0),\n",
    "        textcoords='offset points')"
   ]
  },
  {
   "cell_type": "markdown",
   "metadata": {},
   "source": [
    "As observed, `Technology, Industrial and year 2012` are very close together. Maybe this indicates that Industial and technology case have very similar numbers in year 2012.\n",
    "\n",
    "### (f)\n",
    "Write down the formula to calculate the Frobenius norm of Y . Compute the Frobenius\n",
    "norm of Y . What is the relationship between the sum of squares of the singular values and\n",
    "the Frobenius norm of Y ?"
   ]
  },
  {
   "cell_type": "code",
   "execution_count": 122,
   "metadata": {
    "collapsed": false
   },
   "outputs": [
    {
     "data": {
      "text/plain": [
       "59.642190886299886"
      ]
     },
     "execution_count": 122,
     "metadata": {},
     "output_type": "execute_result"
    }
   ],
   "source": [
    "np.linalg.norm(Y, ord = 'fro')**2"
   ]
  },
  {
   "cell_type": "code",
   "execution_count": 123,
   "metadata": {
    "collapsed": false
   },
   "outputs": [
    {
     "data": {
      "text/plain": [
       "59.642190886299886"
      ]
     },
     "execution_count": 123,
     "metadata": {},
     "output_type": "execute_result"
    }
   ],
   "source": [
    "sum(np.square(s))"
   ]
  },
  {
   "cell_type": "markdown",
   "metadata": {},
   "source": [
    "We observe that squared Frobenius norm of Y is the same as sum of squares of singular values.\n",
    "### (g) \n",
    "Report the percentage of original variance that each dimension in the row/column weight\n",
    "vectors explain? How many singular values are needed to effectively summarize at least 90% of the variability in the data?"
   ]
  },
  {
   "cell_type": "code",
   "execution_count": 124,
   "metadata": {
    "collapsed": false
   },
   "outputs": [
    {
     "name": "stdout",
     "output_type": "stream",
     "text": [
      "Proportion of variance explained by 1th row/column vectors is: 0.349770633674\n",
      "Proportion of variance explained by 2th row/column vectors is: 0.212501163216\n",
      "Proportion of variance explained by 3th row/column vectors is: 0.154738081154\n",
      "Proportion of variance explained by 4th row/column vectors is: 0.13328730714\n",
      "Proportion of variance explained by 5th row/column vectors is: 0.0999875367851\n",
      "We need 5 to reach 90%\n",
      "Proportion of variance explained by 6th row/column vectors is: 0.0497152780316\n",
      "Proportion of variance explained by 7th row/column vectors is: 2.84825055276e-17\n"
     ]
    }
   ],
   "source": [
    "t = 0\n",
    "f = True\n",
    "for i in range(7):\n",
    "    prop = s[i]/sum(s)\n",
    "    print('Proportion of variance explained by '+ str(i+1)+'th row/column vectors is:', prop)\n",
    "    t += prop\n",
    "    if t >= 0.9 and f:\n",
    "        f = False\n",
    "        print('We need '+ str(i+1)+' to reach 90%')\n",
    "    "
   ]
  },
  {
   "cell_type": "markdown",
   "metadata": {},
   "source": [
    "## Question 8: Multidimensional Scaling\n",
    "\n",
    "### (a) \n",
    "Report mean returns and standard deviation of five industries of your choice. Out of all 30 industries, which industry performs the best on average, which industry is the most volatile?"
   ]
  },
  {
   "cell_type": "code",
   "execution_count": 184,
   "metadata": {
    "collapsed": true
   },
   "outputs": [],
   "source": [
    "data = pd.read_table('http://www.stat.uchicago.edu/~lekheng/courses/331/hw3/FamaFrench30.csv', sep = ',')\n",
    "industries = data.columns[1:]"
   ]
  },
  {
   "cell_type": "code",
   "execution_count": 126,
   "metadata": {
    "collapsed": false
   },
   "outputs": [
    {
     "data": {
      "text/html": [
       "<div>\n",
       "<table border=\"1\" class=\"dataframe\">\n",
       "  <thead>\n",
       "    <tr style=\"text-align: right;\">\n",
       "      <th></th>\n",
       "      <th>mean</th>\n",
       "      <th>std</th>\n",
       "    </tr>\n",
       "  </thead>\n",
       "  <tbody>\n",
       "    <tr>\n",
       "      <th>Servs</th>\n",
       "      <td>1.214922</td>\n",
       "      <td>8.351969</td>\n",
       "    </tr>\n",
       "    <tr>\n",
       "      <th>Beer</th>\n",
       "      <td>1.210146</td>\n",
       "      <td>7.216212</td>\n",
       "    </tr>\n",
       "    <tr>\n",
       "      <th>Smoke</th>\n",
       "      <td>1.173963</td>\n",
       "      <td>5.785794</td>\n",
       "    </tr>\n",
       "    <tr>\n",
       "      <th>ElcEq</th>\n",
       "      <td>1.171507</td>\n",
       "      <td>7.595971</td>\n",
       "    </tr>\n",
       "    <tr>\n",
       "      <th>Carry</th>\n",
       "      <td>1.141744</td>\n",
       "      <td>7.587949</td>\n",
       "    </tr>\n",
       "    <tr>\n",
       "      <th>Games</th>\n",
       "      <td>1.132055</td>\n",
       "      <td>8.937234</td>\n",
       "    </tr>\n",
       "    <tr>\n",
       "      <th>BusEq</th>\n",
       "      <td>1.129306</td>\n",
       "      <td>6.766371</td>\n",
       "    </tr>\n",
       "    <tr>\n",
       "      <th>Autos</th>\n",
       "      <td>1.092073</td>\n",
       "      <td>7.973370</td>\n",
       "    </tr>\n",
       "    <tr>\n",
       "      <th>Hlth</th>\n",
       "      <td>1.088420</td>\n",
       "      <td>5.573595</td>\n",
       "    </tr>\n",
       "    <tr>\n",
       "      <th>Chems</th>\n",
       "      <td>1.070256</td>\n",
       "      <td>6.309116</td>\n",
       "    </tr>\n",
       "  </tbody>\n",
       "</table>\n",
       "</div>"
      ],
      "text/plain": [
       "           mean       std\n",
       "Servs  1.214922  8.351969\n",
       "Beer   1.210146  7.216212\n",
       "Smoke  1.173963  5.785794\n",
       "ElcEq  1.171507  7.595971\n",
       "Carry  1.141744  7.587949\n",
       "Games  1.132055  8.937234\n",
       "BusEq  1.129306  6.766371\n",
       "Autos  1.092073  7.973370\n",
       "Hlth   1.088420  5.573595\n",
       "Chems  1.070256  6.309116"
      ]
     },
     "execution_count": 126,
     "metadata": {},
     "output_type": "execute_result"
    }
   ],
   "source": [
    "data.set_index('date').describe().T.sort_values(by = 'mean', ascending = False)[:10][['mean', 'std']]"
   ]
  },
  {
   "cell_type": "markdown",
   "metadata": {},
   "source": [
    "As observed, the five industries of my choice are `Servs, Beer, Smoke, ElcEq, Carry`, and their mean and std are shown in the table above. Top 10 industries with highest mean are also shown in the table above."
   ]
  },
  {
   "cell_type": "code",
   "execution_count": 127,
   "metadata": {
    "collapsed": false
   },
   "outputs": [
    {
     "data": {
      "text/html": [
       "<div>\n",
       "<table border=\"1\" class=\"dataframe\">\n",
       "  <thead>\n",
       "    <tr style=\"text-align: right;\">\n",
       "      <th></th>\n",
       "      <th>mean</th>\n",
       "      <th>std</th>\n",
       "    </tr>\n",
       "  </thead>\n",
       "  <tbody>\n",
       "    <tr>\n",
       "      <th>Other</th>\n",
       "      <td>0.802877</td>\n",
       "      <td>6.777299</td>\n",
       "    </tr>\n",
       "    <tr>\n",
       "      <th>Whlsl</th>\n",
       "      <td>0.825461</td>\n",
       "      <td>7.340007</td>\n",
       "    </tr>\n",
       "    <tr>\n",
       "      <th>Telcm</th>\n",
       "      <td>0.858703</td>\n",
       "      <td>4.593144</td>\n",
       "    </tr>\n",
       "    <tr>\n",
       "      <th>Util</th>\n",
       "      <td>0.883087</td>\n",
       "      <td>5.527677</td>\n",
       "    </tr>\n",
       "    <tr>\n",
       "      <th>Mines</th>\n",
       "      <td>0.908110</td>\n",
       "      <td>7.303744</td>\n",
       "    </tr>\n",
       "    <tr>\n",
       "      <th>Steel</th>\n",
       "      <td>0.915142</td>\n",
       "      <td>8.445446</td>\n",
       "    </tr>\n",
       "    <tr>\n",
       "      <th>Books</th>\n",
       "      <td>0.917205</td>\n",
       "      <td>7.170426</td>\n",
       "    </tr>\n",
       "    <tr>\n",
       "      <th>Clths</th>\n",
       "      <td>0.922438</td>\n",
       "      <td>6.093808</td>\n",
       "    </tr>\n",
       "    <tr>\n",
       "      <th>Hshld</th>\n",
       "      <td>0.925434</td>\n",
       "      <td>5.823733</td>\n",
       "    </tr>\n",
       "    <tr>\n",
       "      <th>Trans</th>\n",
       "      <td>0.931626</td>\n",
       "      <td>7.081260</td>\n",
       "    </tr>\n",
       "  </tbody>\n",
       "</table>\n",
       "</div>"
      ],
      "text/plain": [
       "           mean       std\n",
       "Other  0.802877  6.777299\n",
       "Whlsl  0.825461  7.340007\n",
       "Telcm  0.858703  4.593144\n",
       "Util   0.883087  5.527677\n",
       "Mines  0.908110  7.303744\n",
       "Steel  0.915142  8.445446\n",
       "Books  0.917205  7.170426\n",
       "Clths  0.922438  6.093808\n",
       "Hshld  0.925434  5.823733\n",
       "Trans  0.931626  7.081260"
      ]
     },
     "execution_count": 127,
     "metadata": {},
     "output_type": "execute_result"
    }
   ],
   "source": [
    "data.set_index('date').describe().T.sort_values(by = 'mean')[:10][['mean', 'std']]"
   ]
  },
  {
   "cell_type": "markdown",
   "metadata": {},
   "source": [
    "If we interpret 'volatile' as having the lowest return on average, then the top 10 industries that are most volatile are shown above. In fact, we could observe that the difference in returns between top 10 and lowest 10 industries are not too much"
   ]
  },
  {
   "cell_type": "code",
   "execution_count": 128,
   "metadata": {
    "collapsed": false
   },
   "outputs": [
    {
     "data": {
      "text/html": [
       "<div>\n",
       "<table border=\"1\" class=\"dataframe\">\n",
       "  <thead>\n",
       "    <tr style=\"text-align: right;\">\n",
       "      <th></th>\n",
       "      <th>mean</th>\n",
       "      <th>std</th>\n",
       "    </tr>\n",
       "  </thead>\n",
       "  <tbody>\n",
       "    <tr>\n",
       "      <th>Coal</th>\n",
       "      <td>1.046320</td>\n",
       "      <td>10.838927</td>\n",
       "    </tr>\n",
       "    <tr>\n",
       "      <th>Games</th>\n",
       "      <td>1.132055</td>\n",
       "      <td>8.937234</td>\n",
       "    </tr>\n",
       "    <tr>\n",
       "      <th>Steel</th>\n",
       "      <td>0.915142</td>\n",
       "      <td>8.445446</td>\n",
       "    </tr>\n",
       "    <tr>\n",
       "      <th>Servs</th>\n",
       "      <td>1.214922</td>\n",
       "      <td>8.351969</td>\n",
       "    </tr>\n",
       "    <tr>\n",
       "      <th>Autos</th>\n",
       "      <td>1.092073</td>\n",
       "      <td>7.973370</td>\n",
       "    </tr>\n",
       "    <tr>\n",
       "      <th>Txtls</th>\n",
       "      <td>1.009653</td>\n",
       "      <td>7.644116</td>\n",
       "    </tr>\n",
       "    <tr>\n",
       "      <th>ElcEq</th>\n",
       "      <td>1.171507</td>\n",
       "      <td>7.595971</td>\n",
       "    </tr>\n",
       "    <tr>\n",
       "      <th>Carry</th>\n",
       "      <td>1.141744</td>\n",
       "      <td>7.587949</td>\n",
       "    </tr>\n",
       "    <tr>\n",
       "      <th>Whlsl</th>\n",
       "      <td>0.825461</td>\n",
       "      <td>7.340007</td>\n",
       "    </tr>\n",
       "    <tr>\n",
       "      <th>Mines</th>\n",
       "      <td>0.908110</td>\n",
       "      <td>7.303744</td>\n",
       "    </tr>\n",
       "  </tbody>\n",
       "</table>\n",
       "</div>"
      ],
      "text/plain": [
       "           mean        std\n",
       "Coal   1.046320  10.838927\n",
       "Games  1.132055   8.937234\n",
       "Steel  0.915142   8.445446\n",
       "Servs  1.214922   8.351969\n",
       "Autos  1.092073   7.973370\n",
       "Txtls  1.009653   7.644116\n",
       "ElcEq  1.171507   7.595971\n",
       "Carry  1.141744   7.587949\n",
       "Whlsl  0.825461   7.340007\n",
       "Mines  0.908110   7.303744"
      ]
     },
     "execution_count": 128,
     "metadata": {},
     "output_type": "execute_result"
    }
   ],
   "source": [
    "data.set_index('date').describe().T.sort_values(by = 'std', ascending = False)[:10][['mean', 'std']]"
   ]
  },
  {
   "cell_type": "markdown",
   "metadata": {},
   "source": [
    "If we interpret 'volatile' as having the highest std, then the top 10 industries that are most volatile are shown above."
   ]
  },
  {
   "cell_type": "markdown",
   "metadata": {},
   "source": [
    "### (b) \n",
    "Let Rti be the return of industry i at time t. Write a formula to compute the distance between two industries. Denote what each subscript/superscript means and specify dimension of each subscript/superscript (i.e., explicitly stating what do you sum to). Write a code to compute distance and report the distance of the following pair of industries:\n",
    "\n",
    "• Autos – ElecEq \n",
    "\n",
    "• Autos – Trans \n",
    "\n",
    "• Autos – Oil"
   ]
  },
  {
   "cell_type": "code",
   "execution_count": 129,
   "metadata": {
    "collapsed": true
   },
   "outputs": [],
   "source": [
    "def get_distance (a,b):\n",
    "   return np.linalg.norm(data[a] - data[b])"
   ]
  },
  {
   "cell_type": "code",
   "execution_count": 130,
   "metadata": {
    "collapsed": false
   },
   "outputs": [
    {
     "data": {
      "text/plain": [
       "167.75230609443199"
      ]
     },
     "execution_count": 130,
     "metadata": {},
     "output_type": "execute_result"
    }
   ],
   "source": [
    "get_distance('Autos', 'ElcEq')"
   ]
  },
  {
   "cell_type": "code",
   "execution_count": 131,
   "metadata": {
    "collapsed": false
   },
   "outputs": [
    {
     "data": {
      "text/plain": [
       "182.62838908559644"
      ]
     },
     "execution_count": 131,
     "metadata": {},
     "output_type": "execute_result"
    }
   ],
   "source": [
    "get_distance('Autos', 'Trans')"
   ]
  },
  {
   "cell_type": "code",
   "execution_count": 132,
   "metadata": {
    "collapsed": false
   },
   "outputs": [
    {
     "data": {
      "text/plain": [
       "216.60601376693123"
      ]
     },
     "execution_count": 132,
     "metadata": {},
     "output_type": "execute_result"
    }
   ],
   "source": [
    "get_distance('Autos', 'Oil  ')"
   ]
  },
  {
   "cell_type": "markdown",
   "metadata": {},
   "source": [
    "### (c) \n",
    "Do you need to demean the data to compute distance matrix? Why?\n",
    "\n",
    "We do not need to demean the data because, as shown in class, the EMD of X and the EDM of $X-1C^T$ are always the same for any $C^T$. \n",
    "\n",
    "### (d) \n",
    "Report the distance matrix of all industries. To conveniently compute distance, R has a\n",
    "built in distance matrix command dist."
   ]
  },
  {
   "cell_type": "code",
   "execution_count": 185,
   "metadata": {
    "collapsed": false
   },
   "outputs": [],
   "source": [
    "M = data.set_index('date')\n",
    "M = scale(M, with_std = False).T\n",
    "edm = euclidean_distances(M, M)"
   ]
  },
  {
   "cell_type": "code",
   "execution_count": 186,
   "metadata": {
    "collapsed": false
   },
   "outputs": [
    {
     "data": {
      "text/plain": [
       "array([[   0.        ,  170.86775623,  145.48116453,  215.2560449 ,\n",
       "         162.9419713 ,  116.02584322,  156.271283  ,  116.9036698 ,\n",
       "         141.20848757,  185.73597232,  145.94166711,  216.36325484,\n",
       "         165.45044548,  169.61290033,  198.51482715,  179.30644692,\n",
       "         210.92042286,  311.28971106,  164.78612107,  132.07716567,\n",
       "         129.20255931,  254.8326837 ,  173.94471862,  126.60430677,\n",
       "         165.94305966,  176.00389368,  117.39750795,  146.72328375,\n",
       "         136.47566611,  155.37332491],\n",
       "       [ 170.86775623,    0.        ,  228.07107191,  230.21801735,\n",
       "         213.68986811,  183.43824161,  219.79281869,  186.26013701,\n",
       "         198.47197784,  216.6391759 ,  185.52001764,  250.464516  ,\n",
       "         206.54988802,  214.89644407,  237.11063206,  214.62240308,\n",
       "         251.68688198,  333.78159126,  222.23188497,  200.42625559,\n",
       "         208.28494838,  296.68159383,  223.42879274,  193.55875911,\n",
       "         209.29749641,  197.54153453,  185.98144223,  195.33678416,\n",
       "         188.81990452,  200.64929438],\n",
       "       [ 145.48116453,  228.07107191,    0.        ,  260.64590906,\n",
       "         221.69445368,  182.08100102,  207.97785736,  175.20797542,\n",
       "         199.40364677,  238.06234657,  203.75892547,  258.17879731,\n",
       "         219.44101068,  226.30903847,  245.4381926 ,  230.84756422,\n",
       "         245.40308795,  341.13092988,  210.94451259,  184.70214497,\n",
       "         181.98272034,  285.94912396,  221.37501812,  185.4694858 ,\n",
       "         219.58789269,  224.60608973,  188.05711107,  205.33601964,\n",
       "         199.80045465,  203.41199229],\n",
       "       [ 215.2560449 ,  230.21801735,  260.64590906,    0.        ,\n",
       "         201.26912319,  208.07882953,  231.57944693,  218.31404291,\n",
       "         203.96398985,  199.14131009,  179.70876304,  215.16115023,\n",
       "         184.28774727,  190.34247206,  208.39826535,  206.84439392,\n",
       "         250.99563972,  318.95674124,  244.33889873,  234.1011421 ,\n",
       "         232.53810526,  304.5297542 ,  204.44817002,  209.08585697,\n",
       "         196.49995903,  195.21749818,  194.72773564,  197.0675242 ,\n",
       "         177.58680806,  190.44070694],\n",
       "       [ 162.9419713 ,  213.68986811,  221.69445368,  201.26912319,\n",
       "           0.        ,  167.92876931,  177.06596148,  180.28431125,\n",
       "         171.73436526,  169.89936916,  145.36988557,  198.75520254,\n",
       "         156.52393724,  173.42464196,  180.0179812 ,  181.48986237,\n",
       "         229.78014711,  301.00130704,  201.75908478,  186.35761408,\n",
       "         185.33692979,  262.67518172,  190.79149973,  158.0302018 ,\n",
       "         162.1111588 ,  178.92679723,  153.70920888,  174.04113223,\n",
       "         152.77291991,  169.60676249],\n",
       "       [ 116.02584322,  183.43824161,  182.08100102,  208.07882953,\n",
       "         167.92876931,    0.        ,  176.63035463,  134.45694603,\n",
       "         147.08183892,  188.97086153,  147.51939253,  211.85315553,\n",
       "         162.01877864,  161.96140007,  186.51249243,  179.71742624,\n",
       "         219.83420903,  318.75149386,  183.2193707 ,  159.16183358,\n",
       "         158.81773986,  263.87679306,  168.61813658,  132.24779182,\n",
       "         173.9048729 ,  178.54879417,  131.95908157,  161.55837625,\n",
       "         146.17231621,  153.03890499],\n",
       "       [ 156.271283  ,  219.79281869,  207.97785736,  231.57944693,\n",
       "         177.06596148,  176.63035463,    0.        ,  183.77299943,\n",
       "         170.35456285,  171.95112505,  161.63505563,  224.87188397,\n",
       "         178.5650889 ,  201.17024146,  201.38421302,  194.62455414,\n",
       "         231.71690763,  320.61942113,  205.2668753 ,  198.54619523,\n",
       "         176.7116556 ,  260.48250698,  190.01435039,  157.22181122,\n",
       "         182.26072692,  189.41478214,  143.77322175,  167.34143123,\n",
       "         176.80536577,  176.23958179],\n",
       "       [ 116.9036698 ,  186.26013701,  175.20797542,  218.31404291,\n",
       "         180.28431125,  134.45694603,  183.77299943,    0.        ,\n",
       "         154.93302556,  204.0911998 ,  163.08717031,  223.73441472,\n",
       "         176.36168809,  174.01162423,  211.12446705,  191.20745671,\n",
       "         223.56785524,  316.13494645,  182.32774724,  160.11599562,\n",
       "         152.55719325,  260.35091723,  166.98249142,  142.79544352,\n",
       "         181.11291795,  183.45913718,  143.07492324,  165.42362053,\n",
       "         149.5337988 ,  166.59331155],\n",
       "       [ 141.20848757,  198.47197784,  199.40364677,  203.96398985,\n",
       "         171.73436526,  147.08183892,  170.35456285,  154.93302556,\n",
       "           0.        ,  171.2851383 ,  125.4126624 ,  167.63379003,\n",
       "         121.44713575,  141.70377054,  159.01180737,  166.30058531,\n",
       "         192.24565862,  288.97008104,  161.39696635,  167.79494219,\n",
       "         157.77149857,  269.96987694,  158.9977277 ,  108.52392923,\n",
       "         152.88586771,  182.84909989,  143.34627034,  171.56401511,\n",
       "         139.07448989,  151.9327719 ],\n",
       "       [ 185.73597232,  216.6391759 ,  238.06234657,  199.14131009,\n",
       "         169.89936916,  188.97086153,  171.95112505,  204.0911998 ,\n",
       "         171.2851383 ,    0.        ,  149.72122047,  197.52279593,\n",
       "         160.75241607,  186.73449263,  173.83592404,  188.39979966,\n",
       "         233.61114377,  306.09790024,  219.20633599,  210.74604644,\n",
       "         205.76038543,  291.70361996,  204.13413254,  169.3838341 ,\n",
       "         169.37746644,  186.20507904,  165.64051007,  188.37789798,\n",
       "         168.69456581,  175.7056212 ],\n",
       "       [ 145.94166711,  185.52001764,  203.75892547,  179.70876304,\n",
       "         145.36988557,  147.51939253,  161.63505563,  163.08717031,\n",
       "         125.4126624 ,  149.72122047,    0.        ,  164.28148862,\n",
       "         113.12948088,  134.72710596,  156.47896503,  154.52999543,\n",
       "         199.1461715 ,  281.21436247,  171.72492575,  169.00950127,\n",
       "         172.28126576,  262.89286017,  159.65867034,  130.46002936,\n",
       "         140.36197562,  154.01961383,  133.59310456,  155.23889617,\n",
       "         120.02676013,  139.90999191],\n",
       "       [ 216.36325484,  250.464516  ,  258.17879731,  215.16115023,\n",
       "         198.75520254,  211.85315553,  224.87188397,  223.73441472,\n",
       "         167.63379003,  197.52279593,  164.28148862,    0.        ,\n",
       "         133.55728499,  168.59579097,  182.14983802,  181.26141829,\n",
       "         198.84186444,  268.31306413,  204.1398788 ,  228.2897967 ,\n",
       "         221.70785351,  305.73254447,  190.68285977,  180.41680925,\n",
       "         171.89123411,  211.63902709,  203.836416  ,  226.22326382,\n",
       "         183.55527821,  196.54199191],\n",
       "       [ 165.45044548,  206.54988802,  219.44101068,  184.28774727,\n",
       "         156.52393724,  162.01877864,  178.5650889 ,  176.36168809,\n",
       "         121.44713575,  160.75241607,  113.12948088,  133.55728499,\n",
       "           0.        ,  129.07718767,  154.1755463 ,  144.94929485,\n",
       "         190.33340547,  262.16405425,  166.50036602,  184.79747946,\n",
       "         181.26567788,  268.35632135,  149.3681209 ,  133.29359572,\n",
       "         135.54911561,  170.74242136,  153.85782167,  172.53960164,\n",
       "         138.66897125,  155.50256263],\n",
       "       [ 169.61290033,  214.89644407,  226.30903847,  190.34247206,\n",
       "         173.42464196,  161.96140007,  201.17024146,  174.01162423,\n",
       "         141.70377054,  186.73449263,  134.72710596,  168.59579097,\n",
       "         129.07718767,    0.        ,  167.73171152,  163.24940961,\n",
       "         219.38212544,  296.82288142,  197.02041029,  184.34244158,\n",
       "         188.011902  ,  282.57152161,  159.97728837,  148.79283362,\n",
       "         158.14535366,  189.09507127,  155.66743812,  182.77901904,\n",
       "         140.32353514,  166.53215589],\n",
       "       [ 198.51482715,  237.11063206,  245.4381926 ,  208.39826535,\n",
       "         180.0179812 ,  186.51249243,  201.38421302,  211.12446705,\n",
       "         159.01180737,  173.83592404,  156.47896503,  182.14983802,\n",
       "         154.1755463 ,  167.73171152,    0.        ,  189.57249295,\n",
       "         237.75749704,  313.1609314 ,  216.59115995,  212.86443943,\n",
       "         207.80761263,  300.64834493,  194.50349949,  166.64547421,\n",
       "         182.55119688,  205.39510834,  171.58330197,  207.36393207,\n",
       "         167.77808068,  185.83347571],\n",
       "       [ 179.30644692,  214.62240308,  230.84756422,  206.84439392,\n",
       "         181.48986237,  179.71742624,  194.62455414,  191.20745671,\n",
       "         166.30058531,  188.39979966,  154.52999543,  181.26141829,\n",
       "         144.94929485,  163.24940961,  189.57249295,    0.        ,\n",
       "         224.46514949,  289.56139172,  196.98328315,  198.67478231,\n",
       "         205.22229843,  288.13935368,  193.97806677,  166.73673182,\n",
       "         146.51949046,  185.48139845,  177.89494159,  183.25887384,\n",
       "         158.8842094 ,  174.15109071],\n",
       "       [ 210.92042286,  251.68688198,  245.40308795,  250.99563972,\n",
       "         229.78014711,  219.83420903,  231.71690763,  223.56785524,\n",
       "         192.24565862,  233.61114377,  199.1461715 ,  198.84186444,\n",
       "         190.33340547,  219.38212544,  237.75749704,  224.46514949,\n",
       "           0.        ,  296.50588947,  193.047752  ,  223.35892947,\n",
       "         217.65510955,  299.2386345 ,  224.80712429,  201.38837844,\n",
       "         213.30613438,  227.15455646,  219.56406948,  224.46601504,\n",
       "         213.14686841,  215.29448835],\n",
       "       [ 311.28971106,  333.78159126,  341.13092988,  318.95674124,\n",
       "         301.00130704,  318.75149386,  320.61942113,  316.13494645,\n",
       "         288.97008104,  306.09790024,  281.21436247,  268.31306413,\n",
       "         262.16405425,  296.82288142,  313.1609314 ,  289.56139172,\n",
       "         296.50588947,    0.        ,  286.56110519,  307.38345784,\n",
       "         323.0540925 ,  384.43888508,  316.10034694,  297.3166886 ,\n",
       "         272.52822106,  299.54030446,  317.51249568,  320.90157024,\n",
       "         291.2420811 ,  312.05892091],\n",
       "       [ 164.78612107,  222.23188497,  210.94451259,  244.33889873,\n",
       "         201.75908478,  183.2193707 ,  205.2668753 ,  182.32774724,\n",
       "         161.39696635,  219.20633599,  171.72492575,  204.1398788 ,\n",
       "         166.50036602,  197.02041029,  216.59115995,  196.98328315,\n",
       "         193.047752  ,  286.56110519,    0.        ,  171.20904755,\n",
       "         179.9288475 ,  277.76280121,  200.71463132,  167.15371514,\n",
       "         192.43389403,  209.54212201,  188.54862836,  204.08456835,\n",
       "         174.31586503,  190.01811425],\n",
       "       [ 132.07716567,  200.42625559,  184.70214497,  234.1011421 ,\n",
       "         186.35761408,  159.16183358,  198.54619523,  160.11599562,\n",
       "         167.79494219,  210.74604644,  169.00950127,  228.2897967 ,\n",
       "         184.79747946,  184.34244158,  212.86443943,  198.67478231,\n",
       "         223.35892947,  307.38345784,  171.20904755,    0.        ,\n",
       "         146.61671923,  275.16632354,  201.30547024,  162.27046014,\n",
       "         183.15550732,  197.13702247,  164.95636233,  181.46328676,\n",
       "         146.03411208,  180.74520644],\n",
       "       [ 129.20255931,  208.28494838,  181.98272034,  232.53810526,\n",
       "         185.33692979,  158.81773986,  176.7116556 ,  152.55719325,\n",
       "         157.77149857,  205.76038543,  172.28126576,  221.70785351,\n",
       "         181.26567788,  188.011902  ,  207.80761263,  205.22229843,\n",
       "         217.65510955,  323.0540925 ,  179.9288475 ,  146.61671923,\n",
       "           0.        ,  247.73638963,  169.8073161 ,  153.25000411,\n",
       "         183.34519914,  198.12866928,  148.26781469,  176.48374201,\n",
       "         158.48548926,  176.38145488],\n",
       "       [ 254.8326837 ,  296.68159383,  285.94912396,  304.5297542 ,\n",
       "         262.67518172,  263.87679306,  260.48250698,  260.35091723,\n",
       "         269.96987694,  291.70361996,  262.89286017,  305.73254447,\n",
       "         268.35632135,  282.57152161,  300.64834493,  288.13935368,\n",
       "         299.2386345 ,  384.43888508,  277.76280121,  275.16632354,\n",
       "         247.73638963,    0.        ,  243.42716602,  257.07108706,\n",
       "         278.15708367,  278.06110692,  255.16010321,  259.45757213,\n",
       "         268.07691412,  267.944579  ],\n",
       "       [ 173.94471862,  223.42879274,  221.37501812,  204.44817002,\n",
       "         190.79149973,  168.61813658,  190.01435039,  166.98249142,\n",
       "         158.9977277 ,  204.13413254,  159.65867034,  190.68285977,\n",
       "         149.3681209 ,  159.97728837,  194.50349949,  193.97806677,\n",
       "         224.80712429,  316.10034694,  200.71463132,  201.30547024,\n",
       "         169.8073161 ,  243.42716602,    0.        ,  157.68954238,\n",
       "         187.09123472,  194.13510995,  157.9392876 ,  184.82540432,\n",
       "         169.59878232,  170.9986156 ],\n",
       "       [ 126.60430677,  193.55875911,  185.4694858 ,  209.08585697,\n",
       "         158.0302018 ,  132.24779182,  157.22181122,  142.79544352,\n",
       "         108.52392923,  169.3838341 ,  130.46002936,  180.41680925,\n",
       "         133.29359572,  148.79283362,  166.64547421,  166.73673182,\n",
       "         201.38837844,  297.3166886 ,  167.15371514,  162.27046014,\n",
       "         153.25000411,  257.07108706,  157.68954238,    0.        ,\n",
       "         149.65628604,  179.58162844,  133.53902348,  160.78718003,\n",
       "         134.61081472,  147.16190309],\n",
       "       [ 165.94305966,  209.29749641,  219.58789269,  196.49995903,\n",
       "         162.1111588 ,  173.9048729 ,  182.26072692,  181.11291795,\n",
       "         152.88586771,  169.37746644,  140.36197562,  171.89123411,\n",
       "         135.54911561,  158.14535366,  182.55119688,  146.51949046,\n",
       "         213.30613438,  272.52822106,  192.43389403,  183.15550732,\n",
       "         183.34519914,  278.15708367,  187.09123472,  149.65628604,\n",
       "           0.        ,  176.48904524,  159.83871021,  167.73762856,\n",
       "         139.27912827,  166.81796422],\n",
       "       [ 176.00389368,  197.54153453,  224.60608973,  195.21749818,\n",
       "         178.92679723,  178.54879417,  189.41478214,  183.45913718,\n",
       "         182.84909989,  186.20507904,  154.01961383,  211.63902709,\n",
       "         170.74242136,  189.09507127,  205.39510834,  185.48139845,\n",
       "         227.15455646,  299.54030446,  209.54212201,  197.13702247,\n",
       "         198.12866928,  278.06110692,  194.13510995,  179.58162844,\n",
       "         176.48904524,    0.        ,  164.98661896,  178.50082152,\n",
       "         165.45774433,  169.21562158],\n",
       "       [ 117.39750795,  185.98144223,  188.05711107,  194.72773564,\n",
       "         153.70920888,  131.95908157,  143.77322175,  143.07492324,\n",
       "         143.34627034,  165.64051007,  133.59310456,  203.836416  ,\n",
       "         153.85782167,  155.66743812,  171.58330197,  177.89494159,\n",
       "         219.56406948,  317.51249568,  188.54862836,  164.95636233,\n",
       "         148.26781469,  255.16010321,  157.9392876 ,  133.53902348,\n",
       "         159.83871021,  164.98661896,    0.        ,  139.84398859,\n",
       "         133.08381153,  151.94706973],\n",
       "       [ 146.72328375,  195.33678416,  205.33601964,  197.0675242 ,\n",
       "         174.04113223,  161.55837625,  167.34143123,  165.42362053,\n",
       "         171.56401511,  188.37789798,  155.23889617,  226.22326382,\n",
       "         172.53960164,  182.77901904,  207.36393207,  183.25887384,\n",
       "         224.46601504,  320.90157024,  204.08456835,  181.46328676,\n",
       "         176.48374201,  259.45757213,  184.82540432,  160.78718003,\n",
       "         167.73762856,  178.50082152,  139.84398859,    0.        ,\n",
       "         159.79446632,  171.08775994],\n",
       "       [ 136.47566611,  188.81990452,  199.80045465,  177.58680806,\n",
       "         152.77291991,  146.17231621,  176.80536577,  149.5337988 ,\n",
       "         139.07448989,  168.69456581,  120.02676013,  183.55527821,\n",
       "         138.66897125,  140.32353514,  167.77808068,  158.8842094 ,\n",
       "         213.14686841,  291.2420811 ,  174.31586503,  146.03411208,\n",
       "         158.48548926,  268.07691412,  169.59878232,  134.61081472,\n",
       "         139.27912827,  165.45774433,  133.08381153,  159.79446632,\n",
       "           0.        ,  142.4496402 ],\n",
       "       [ 155.37332491,  200.64929438,  203.41199229,  190.44070694,\n",
       "         169.60676249,  153.03890499,  176.23958179,  166.59331155,\n",
       "         151.9327719 ,  175.7056212 ,  139.90999191,  196.54199191,\n",
       "         155.50256263,  166.53215589,  185.83347571,  174.15109071,\n",
       "         215.29448835,  312.05892091,  190.01811425,  180.74520644,\n",
       "         176.38145488,  267.944579  ,  170.9986156 ,  147.16190309,\n",
       "         166.81796422,  169.21562158,  151.94706973,  171.08775994,\n",
       "         142.4496402 ,    0.        ]])"
      ]
     },
     "execution_count": 186,
     "metadata": {},
     "output_type": "execute_result"
    }
   ],
   "source": [
    "edm"
   ]
  },
  {
   "cell_type": "markdown",
   "metadata": {},
   "source": [
    "### (e)\n",
    "\n",
    "Multidimensional scaling: With the distance matrix in hand, you are now ready to perform multidimensional scaling to visualize this data. The end goal is to plot the first two dimen- sions after multidimensional scaling.\n",
    "\n",
    "- To perform MDS, you first need Euclidean distance matrix (EDM) from the previous part. \n",
    "- Then, you would perform the following steps\n",
    "    - Step 1: Form Gram matrix G from EDM. [Handout 9, equation 7.6] \n",
    "    - Step 2: Perform EVD on G and recover X using X = Q Λ1/2.\n",
    "    \n",
    "Report the result by plotting the first two dimensions after multidimensional scaling with corresponding industry label for each data point. Does this plot have to be unique? Why?"
   ]
  },
  {
   "cell_type": "code",
   "execution_count": 136,
   "metadata": {
    "collapsed": true
   },
   "outputs": [],
   "source": [
    "mds = MDS(n_components=2, dissimilarity=\"precomputed\")\n",
    "pos = mds.fit(edm).embedding_\n",
    "\n",
    "d1 = pos[:,0]\n",
    "d2 = pos[:,1]"
   ]
  },
  {
   "cell_type": "code",
   "execution_count": 137,
   "metadata": {
    "collapsed": false
   },
   "outputs": [
    {
     "data": {
      "image/png": "[encoded data removed]",
      "text/plain": [
       "<matplotlib.figure.Figure at 0x10d123908>"
      ]
     },
     "metadata": {},
     "output_type": "display_data"
    }
   ],
   "source": [
    "plt.scatter(d1, d2)\n",
    "plt.xlabel('dimension1')\n",
    "plt.ylabel('dimension2')\n",
    "# plt.annotate(, pc_1, pc_2)\n",
    "\n",
    "for label, x, y in zip(list(industries), d1, d2):\n",
    "    plt.annotate(\n",
    "        label,\n",
    "        xy=(x, y), xytext=(0, 0),\n",
    "        textcoords='offset points')"
   ]
  },
  {
   "cell_type": "markdown",
   "metadata": {},
   "source": [
    "The plotting does not need to be unique since it only perserves the distance between each pair of industries, so it may be arbitrarily translated, rotated, and reflected, since these transformations do not change the pairwise distances.\n",
    "\n",
    "### (f)\n",
    "\n",
    "Interpret the results. What does closer/further in distance mean in this setting? Which industry tends to co-move with Games industry the most? List three industries whose returns tend to move on its own.\n",
    "\n",
    "Closer/further in distance in thie plot means two indisturies have similar/different return in the 1095 months period. The industry that co-move with Game industry the most is Textiles industry. The three industries whose returns tend to move on its own are Service, Coal and Games."
   ]
  },
  {
   "cell_type": "markdown",
   "metadata": {},
   "source": [
    "### (g)\n",
    "(Optional): What is your advice for an investor who put most of his money on stocks in Telecom? [Think about diversification]"
   ]
  },
  {
   "cell_type": "code",
   "execution_count": 138,
   "metadata": {
    "collapsed": false
   },
   "outputs": [
    {
     "data": {
      "text/plain": [
       "count    1095.000000\n",
       "mean        0.858703\n",
       "std         4.593144\n",
       "min       -21.560000\n",
       "25%        -1.410000\n",
       "50%         0.900000\n",
       "75%         3.240000\n",
       "max        28.170000\n",
       "Name: Telcm, dtype: float64"
      ]
     },
     "execution_count": 138,
     "metadata": {},
     "output_type": "execute_result"
    }
   ],
   "source": [
    "data['Telcm'].describe()"
   ]
  },
  {
   "cell_type": "code",
   "execution_count": 139,
   "metadata": {
    "collapsed": false
   },
   "outputs": [
    {
     "data": {
      "text/html": [
       "<div>\n",
       "<table border=\"1\" class=\"dataframe\">\n",
       "  <thead>\n",
       "    <tr style=\"text-align: right;\">\n",
       "      <th></th>\n",
       "      <th>mean</th>\n",
       "      <th>std</th>\n",
       "    </tr>\n",
       "  </thead>\n",
       "  <tbody>\n",
       "    <tr>\n",
       "      <th>Telcm</th>\n",
       "      <td>0.858703</td>\n",
       "      <td>4.593144</td>\n",
       "    </tr>\n",
       "    <tr>\n",
       "      <th>Food</th>\n",
       "      <td>0.975370</td>\n",
       "      <td>4.743400</td>\n",
       "    </tr>\n",
       "    <tr>\n",
       "      <th>Util</th>\n",
       "      <td>0.883087</td>\n",
       "      <td>5.527677</td>\n",
       "    </tr>\n",
       "    <tr>\n",
       "      <th>Hlth</th>\n",
       "      <td>1.088420</td>\n",
       "      <td>5.573595</td>\n",
       "    </tr>\n",
       "    <tr>\n",
       "      <th>Smoke</th>\n",
       "      <td>1.173963</td>\n",
       "      <td>5.785794</td>\n",
       "    </tr>\n",
       "  </tbody>\n",
       "</table>\n",
       "</div>"
      ],
      "text/plain": [
       "           mean       std\n",
       "Telcm  0.858703  4.593144\n",
       "Food   0.975370  4.743400\n",
       "Util   0.883087  5.527677\n",
       "Hlth   1.088420  5.573595\n",
       "Smoke  1.173963  5.785794"
      ]
     },
     "execution_count": 139,
     "metadata": {},
     "output_type": "execute_result"
    }
   ],
   "source": [
    "data.set_index('date').describe().T.sort_values(by = 'std', ascending = True)[:5][['mean', 'std']]"
   ]
  },
  {
   "cell_type": "markdown",
   "metadata": {},
   "source": [
    "As we could observe, Telecom industry has the 3rd lowest average across all industries; however, it has the smallest standard deviation. Thus, it's not the most profitable choice but it seems to be a very safe choice. I would suggest the investor to invest some in Telecom industry and some in more profitable but also relatively save industries like Smoke and Health. Depending on how much risk he would like to take, he could also invest in industries with highest averaged returns like service to diversify his porfolio."
   ]
  }
 ],
 "metadata": {
  "kernelspec": {
   "display_name": "Python 3",
   "language": "python",
   "name": "python3"
  },
  "language_info": {
   "codemirror_mode": {
    "name": "ipython",
    "version": 3
   },
   "file_extension": ".py",
   "mimetype": "text/x-python",
   "name": "python",
   "nbconvert_exporter": "python",
   "pygments_lexer": "ipython3",
   "version": "3.5.2"
  }
 },
 "nbformat": 4,
 "nbformat_minor": 0
}
