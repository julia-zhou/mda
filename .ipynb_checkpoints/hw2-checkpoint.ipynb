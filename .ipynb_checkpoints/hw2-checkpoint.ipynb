{
 "cells": [
  {
   "cell_type": "markdown",
   "metadata": {},
   "source": [
    "# HW2"
   ]
  },
  {
   "cell_type": "code",
   "execution_count": 84,
   "metadata": {
    "collapsed": true
   },
   "outputs": [],
   "source": [
    "import numpy as np\n",
    "import pandas as pd\n",
    "import matplotlib.pyplot as plt\n",
    "import seaborn\n",
    "\n",
    "from sklearn import preprocessing\n",
    "from sklearn.decomposition import PCA\n",
    "\n",
    "%matplotlib inline"
   ]
  },
  {
   "cell_type": "markdown",
   "metadata": {},
   "source": [
    "## Question 1: Basic description of multivariate data"
   ]
  },
  {
   "cell_type": "code",
   "execution_count": 150,
   "metadata": {
    "collapsed": false
   },
   "outputs": [],
   "source": [
    "colnames = [\"Country\",\"100m\",\"200m\",\"400m\",\"800m\",\"1500m\",\"3000m\",\"Marathon\"]\n",
    "data = pd.read_table('http://www.stat.uchicago.edu/~lekheng/courses/331/hw2/p1.txt', names = colnames)"
   ]
  },
  {
   "cell_type": "markdown",
   "metadata": {},
   "source": [
    "### (a) Sample means. Is there any variable for which the mean is not very meaningful?"
   ]
  },
  {
   "cell_type": "code",
   "execution_count": 151,
   "metadata": {
    "collapsed": false
   },
   "outputs": [
    {
     "data": {
      "text/html": [
       "\n",
       "        <style  type=\"text/css\" >\n",
       "        \n",
       "        \n",
       "        </style>\n",
       "\n",
       "        <table id=\"T_c61b30de_c329_11e7_baca_a45e60d85177\" None>\n",
       "        \n",
       "\n",
       "        <thead>\n",
       "            \n",
       "            <tr>\n",
       "                \n",
       "                \n",
       "                <th class=\"blank level0\" >\n",
       "                  \n",
       "                \n",
       "                \n",
       "                \n",
       "                <th class=\"col_heading level0 col0\" colspan=1>\n",
       "                  100m\n",
       "                \n",
       "                \n",
       "                \n",
       "                <th class=\"col_heading level0 col1\" colspan=1>\n",
       "                  200m\n",
       "                \n",
       "                \n",
       "                \n",
       "                <th class=\"col_heading level0 col2\" colspan=1>\n",
       "                  400m\n",
       "                \n",
       "                \n",
       "                \n",
       "                <th class=\"col_heading level0 col3\" colspan=1>\n",
       "                  800m\n",
       "                \n",
       "                \n",
       "                \n",
       "                <th class=\"col_heading level0 col4\" colspan=1>\n",
       "                  1500m\n",
       "                \n",
       "                \n",
       "                \n",
       "                <th class=\"col_heading level0 col5\" colspan=1>\n",
       "                  3000m\n",
       "                \n",
       "                \n",
       "                \n",
       "                <th class=\"col_heading level0 col6\" colspan=1>\n",
       "                  Marathon\n",
       "                \n",
       "                \n",
       "            </tr>\n",
       "            \n",
       "        </thead>\n",
       "        <tbody>\n",
       "            \n",
       "            <tr>\n",
       "                \n",
       "                \n",
       "                <th id=\"T_c61b30de_c329_11e7_baca_a45e60d85177\"\n",
       "                 class=\"row_heading level0 row0\" rowspan=1>\n",
       "                    count\n",
       "                \n",
       "                \n",
       "                \n",
       "                <td id=\"T_c61b30de_c329_11e7_baca_a45e60d85177row0_col0\"\n",
       "                 class=\"data row0 col0\" >\n",
       "                    54.00\n",
       "                \n",
       "                \n",
       "                \n",
       "                <td id=\"T_c61b30de_c329_11e7_baca_a45e60d85177row0_col1\"\n",
       "                 class=\"data row0 col1\" >\n",
       "                    54.00\n",
       "                \n",
       "                \n",
       "                \n",
       "                <td id=\"T_c61b30de_c329_11e7_baca_a45e60d85177row0_col2\"\n",
       "                 class=\"data row0 col2\" >\n",
       "                    54.00\n",
       "                \n",
       "                \n",
       "                \n",
       "                <td id=\"T_c61b30de_c329_11e7_baca_a45e60d85177row0_col3\"\n",
       "                 class=\"data row0 col3\" >\n",
       "                    54.00\n",
       "                \n",
       "                \n",
       "                \n",
       "                <td id=\"T_c61b30de_c329_11e7_baca_a45e60d85177row0_col4\"\n",
       "                 class=\"data row0 col4\" >\n",
       "                    54.00\n",
       "                \n",
       "                \n",
       "                \n",
       "                <td id=\"T_c61b30de_c329_11e7_baca_a45e60d85177row0_col5\"\n",
       "                 class=\"data row0 col5\" >\n",
       "                    54.00\n",
       "                \n",
       "                \n",
       "                \n",
       "                <td id=\"T_c61b30de_c329_11e7_baca_a45e60d85177row0_col6\"\n",
       "                 class=\"data row0 col6\" >\n",
       "                    54.00\n",
       "                \n",
       "                \n",
       "            </tr>\n",
       "            \n",
       "            <tr>\n",
       "                \n",
       "                \n",
       "                <th id=\"T_c61b30de_c329_11e7_baca_a45e60d85177\"\n",
       "                 class=\"row_heading level0 row1\" rowspan=1>\n",
       "                    mean\n",
       "                \n",
       "                \n",
       "                \n",
       "                <td id=\"T_c61b30de_c329_11e7_baca_a45e60d85177row1_col0\"\n",
       "                 class=\"data row1 col0\" >\n",
       "                    11.36\n",
       "                \n",
       "                \n",
       "                \n",
       "                <td id=\"T_c61b30de_c329_11e7_baca_a45e60d85177row1_col1\"\n",
       "                 class=\"data row1 col1\" >\n",
       "                    23.12\n",
       "                \n",
       "                \n",
       "                \n",
       "                <td id=\"T_c61b30de_c329_11e7_baca_a45e60d85177row1_col2\"\n",
       "                 class=\"data row1 col2\" >\n",
       "                    51.99\n",
       "                \n",
       "                \n",
       "                \n",
       "                <td id=\"T_c61b30de_c329_11e7_baca_a45e60d85177row1_col3\"\n",
       "                 class=\"data row1 col3\" >\n",
       "                    2.02\n",
       "                \n",
       "                \n",
       "                \n",
       "                <td id=\"T_c61b30de_c329_11e7_baca_a45e60d85177row1_col4\"\n",
       "                 class=\"data row1 col4\" >\n",
       "                    4.19\n",
       "                \n",
       "                \n",
       "                \n",
       "                <td id=\"T_c61b30de_c329_11e7_baca_a45e60d85177row1_col5\"\n",
       "                 class=\"data row1 col5\" >\n",
       "                    9.08\n",
       "                \n",
       "                \n",
       "                \n",
       "                <td id=\"T_c61b30de_c329_11e7_baca_a45e60d85177row1_col6\"\n",
       "                 class=\"data row1 col6\" >\n",
       "                    153.59\n",
       "                \n",
       "                \n",
       "            </tr>\n",
       "            \n",
       "            <tr>\n",
       "                \n",
       "                \n",
       "                <th id=\"T_c61b30de_c329_11e7_baca_a45e60d85177\"\n",
       "                 class=\"row_heading level0 row2\" rowspan=1>\n",
       "                    std\n",
       "                \n",
       "                \n",
       "                \n",
       "                <td id=\"T_c61b30de_c329_11e7_baca_a45e60d85177row2_col0\"\n",
       "                 class=\"data row2 col0\" >\n",
       "                    0.39\n",
       "                \n",
       "                \n",
       "                \n",
       "                <td id=\"T_c61b30de_c329_11e7_baca_a45e60d85177row2_col1\"\n",
       "                 class=\"data row2 col1\" >\n",
       "                    0.93\n",
       "                \n",
       "                \n",
       "                \n",
       "                <td id=\"T_c61b30de_c329_11e7_baca_a45e60d85177row2_col2\"\n",
       "                 class=\"data row2 col2\" >\n",
       "                    2.60\n",
       "                \n",
       "                \n",
       "                \n",
       "                <td id=\"T_c61b30de_c329_11e7_baca_a45e60d85177row2_col3\"\n",
       "                 class=\"data row2 col3\" >\n",
       "                    0.09\n",
       "                \n",
       "                \n",
       "                \n",
       "                <td id=\"T_c61b30de_c329_11e7_baca_a45e60d85177row2_col4\"\n",
       "                 class=\"data row2 col4\" >\n",
       "                    0.31\n",
       "                \n",
       "                \n",
       "                \n",
       "                <td id=\"T_c61b30de_c329_11e7_baca_a45e60d85177row2_col5\"\n",
       "                 class=\"data row2 col5\" >\n",
       "                    0.82\n",
       "                \n",
       "                \n",
       "                \n",
       "                <td id=\"T_c61b30de_c329_11e7_baca_a45e60d85177row2_col6\"\n",
       "                 class=\"data row2 col6\" >\n",
       "                    16.46\n",
       "                \n",
       "                \n",
       "            </tr>\n",
       "            \n",
       "            <tr>\n",
       "                \n",
       "                \n",
       "                <th id=\"T_c61b30de_c329_11e7_baca_a45e60d85177\"\n",
       "                 class=\"row_heading level0 row3\" rowspan=1>\n",
       "                    min\n",
       "                \n",
       "                \n",
       "                \n",
       "                <td id=\"T_c61b30de_c329_11e7_baca_a45e60d85177row3_col0\"\n",
       "                 class=\"data row3 col0\" >\n",
       "                    10.49\n",
       "                \n",
       "                \n",
       "                \n",
       "                <td id=\"T_c61b30de_c329_11e7_baca_a45e60d85177row3_col1\"\n",
       "                 class=\"data row3 col1\" >\n",
       "                    21.34\n",
       "                \n",
       "                \n",
       "                \n",
       "                <td id=\"T_c61b30de_c329_11e7_baca_a45e60d85177row3_col2\"\n",
       "                 class=\"data row3 col2\" >\n",
       "                    47.60\n",
       "                \n",
       "                \n",
       "                \n",
       "                <td id=\"T_c61b30de_c329_11e7_baca_a45e60d85177row3_col3\"\n",
       "                 class=\"data row3 col3\" >\n",
       "                    1.89\n",
       "                \n",
       "                \n",
       "                \n",
       "                <td id=\"T_c61b30de_c329_11e7_baca_a45e60d85177row3_col4\"\n",
       "                 class=\"data row3 col4\" >\n",
       "                    3.84\n",
       "                \n",
       "                \n",
       "                \n",
       "                <td id=\"T_c61b30de_c329_11e7_baca_a45e60d85177row3_col5\"\n",
       "                 class=\"data row3 col5\" >\n",
       "                    8.10\n",
       "                \n",
       "                \n",
       "                \n",
       "                <td id=\"T_c61b30de_c329_11e7_baca_a45e60d85177row3_col6\"\n",
       "                 class=\"data row3 col6\" >\n",
       "                    135.25\n",
       "                \n",
       "                \n",
       "            </tr>\n",
       "            \n",
       "            <tr>\n",
       "                \n",
       "                \n",
       "                <th id=\"T_c61b30de_c329_11e7_baca_a45e60d85177\"\n",
       "                 class=\"row_heading level0 row4\" rowspan=1>\n",
       "                    25%\n",
       "                \n",
       "                \n",
       "                \n",
       "                <td id=\"T_c61b30de_c329_11e7_baca_a45e60d85177row4_col0\"\n",
       "                 class=\"data row4 col0\" >\n",
       "                    11.12\n",
       "                \n",
       "                \n",
       "                \n",
       "                <td id=\"T_c61b30de_c329_11e7_baca_a45e60d85177row4_col1\"\n",
       "                 class=\"data row4 col1\" >\n",
       "                    22.57\n",
       "                \n",
       "                \n",
       "                \n",
       "                <td id=\"T_c61b30de_c329_11e7_baca_a45e60d85177row4_col2\"\n",
       "                 class=\"data row4 col2\" >\n",
       "                    49.97\n",
       "                \n",
       "                \n",
       "                \n",
       "                <td id=\"T_c61b30de_c329_11e7_baca_a45e60d85177row4_col3\"\n",
       "                 class=\"data row4 col3\" >\n",
       "                    1.97\n",
       "                \n",
       "                \n",
       "                \n",
       "                <td id=\"T_c61b30de_c329_11e7_baca_a45e60d85177row4_col4\"\n",
       "                 class=\"data row4 col4\" >\n",
       "                    4.00\n",
       "                \n",
       "                \n",
       "                \n",
       "                <td id=\"T_c61b30de_c329_11e7_baca_a45e60d85177row4_col5\"\n",
       "                 class=\"data row4 col5\" >\n",
       "                    8.54\n",
       "                \n",
       "                \n",
       "                \n",
       "                <td id=\"T_c61b30de_c329_11e7_baca_a45e60d85177row4_col6\"\n",
       "                 class=\"data row4 col6\" >\n",
       "                    143.48\n",
       "                \n",
       "                \n",
       "            </tr>\n",
       "            \n",
       "            <tr>\n",
       "                \n",
       "                \n",
       "                <th id=\"T_c61b30de_c329_11e7_baca_a45e60d85177\"\n",
       "                 class=\"row_heading level0 row5\" rowspan=1>\n",
       "                    50%\n",
       "                \n",
       "                \n",
       "                \n",
       "                <td id=\"T_c61b30de_c329_11e7_baca_a45e60d85177row5_col0\"\n",
       "                 class=\"data row5 col0\" >\n",
       "                    11.32\n",
       "                \n",
       "                \n",
       "                \n",
       "                <td id=\"T_c61b30de_c329_11e7_baca_a45e60d85177row5_col1\"\n",
       "                 class=\"data row5 col1\" >\n",
       "                    22.98\n",
       "                \n",
       "                \n",
       "                \n",
       "                <td id=\"T_c61b30de_c329_11e7_baca_a45e60d85177row5_col2\"\n",
       "                 class=\"data row5 col2\" >\n",
       "                    51.64\n",
       "                \n",
       "                \n",
       "                \n",
       "                <td id=\"T_c61b30de_c329_11e7_baca_a45e60d85177row5_col3\"\n",
       "                 class=\"data row5 col3\" >\n",
       "                    2.00\n",
       "                \n",
       "                \n",
       "                \n",
       "                <td id=\"T_c61b30de_c329_11e7_baca_a45e60d85177row5_col4\"\n",
       "                 class=\"data row5 col4\" >\n",
       "                    4.10\n",
       "                \n",
       "                \n",
       "                \n",
       "                <td id=\"T_c61b30de_c329_11e7_baca_a45e60d85177row5_col5\"\n",
       "                 class=\"data row5 col5\" >\n",
       "                    8.84\n",
       "                \n",
       "                \n",
       "                \n",
       "                <td id=\"T_c61b30de_c329_11e7_baca_a45e60d85177row5_col6\"\n",
       "                 class=\"data row5 col6\" >\n",
       "                    148.43\n",
       "                \n",
       "                \n",
       "            </tr>\n",
       "            \n",
       "            <tr>\n",
       "                \n",
       "                \n",
       "                <th id=\"T_c61b30de_c329_11e7_baca_a45e60d85177\"\n",
       "                 class=\"row_heading level0 row6\" rowspan=1>\n",
       "                    75%\n",
       "                \n",
       "                \n",
       "                \n",
       "                <td id=\"T_c61b30de_c329_11e7_baca_a45e60d85177row6_col0\"\n",
       "                 class=\"data row6 col0\" >\n",
       "                    11.57\n",
       "                \n",
       "                \n",
       "                \n",
       "                <td id=\"T_c61b30de_c329_11e7_baca_a45e60d85177row6_col1\"\n",
       "                 class=\"data row6 col1\" >\n",
       "                    23.61\n",
       "                \n",
       "                \n",
       "                \n",
       "                <td id=\"T_c61b30de_c329_11e7_baca_a45e60d85177row6_col2\"\n",
       "                 class=\"data row6 col2\" >\n",
       "                    53.12\n",
       "                \n",
       "                \n",
       "                \n",
       "                <td id=\"T_c61b30de_c329_11e7_baca_a45e60d85177row6_col3\"\n",
       "                 class=\"data row6 col3\" >\n",
       "                    2.07\n",
       "                \n",
       "                \n",
       "                \n",
       "                <td id=\"T_c61b30de_c329_11e7_baca_a45e60d85177row6_col4\"\n",
       "                 class=\"data row6 col4\" >\n",
       "                    4.32\n",
       "                \n",
       "                \n",
       "                \n",
       "                <td id=\"T_c61b30de_c329_11e7_baca_a45e60d85177row6_col5\"\n",
       "                 class=\"data row6 col5\" >\n",
       "                    9.33\n",
       "                \n",
       "                \n",
       "                \n",
       "                <td id=\"T_c61b30de_c329_11e7_baca_a45e60d85177row6_col6\"\n",
       "                 class=\"data row6 col6\" >\n",
       "                    157.66\n",
       "                \n",
       "                \n",
       "            </tr>\n",
       "            \n",
       "            <tr>\n",
       "                \n",
       "                \n",
       "                <th id=\"T_c61b30de_c329_11e7_baca_a45e60d85177\"\n",
       "                 class=\"row_heading level0 row7\" rowspan=1>\n",
       "                    max\n",
       "                \n",
       "                \n",
       "                \n",
       "                <td id=\"T_c61b30de_c329_11e7_baca_a45e60d85177row7_col0\"\n",
       "                 class=\"data row7 col0\" >\n",
       "                    12.52\n",
       "                \n",
       "                \n",
       "                \n",
       "                <td id=\"T_c61b30de_c329_11e7_baca_a45e60d85177row7_col1\"\n",
       "                 class=\"data row7 col1\" >\n",
       "                    25.91\n",
       "                \n",
       "                \n",
       "                \n",
       "                <td id=\"T_c61b30de_c329_11e7_baca_a45e60d85177row7_col2\"\n",
       "                 class=\"data row7 col2\" >\n",
       "                    61.65\n",
       "                \n",
       "                \n",
       "                \n",
       "                <td id=\"T_c61b30de_c329_11e7_baca_a45e60d85177row7_col3\"\n",
       "                 class=\"data row7 col3\" >\n",
       "                    2.29\n",
       "                \n",
       "                \n",
       "                \n",
       "                <td id=\"T_c61b30de_c329_11e7_baca_a45e60d85177row7_col4\"\n",
       "                 class=\"data row7 col4\" >\n",
       "                    5.92\n",
       "                \n",
       "                \n",
       "                \n",
       "                <td id=\"T_c61b30de_c329_11e7_baca_a45e60d85177row7_col5\"\n",
       "                 class=\"data row7 col5\" >\n",
       "                    13.12\n",
       "                \n",
       "                \n",
       "                \n",
       "                <td id=\"T_c61b30de_c329_11e7_baca_a45e60d85177row7_col6\"\n",
       "                 class=\"data row7 col6\" >\n",
       "                    221.14\n",
       "                \n",
       "                \n",
       "            </tr>\n",
       "            \n",
       "        </tbody>\n",
       "        </table>\n",
       "        "
      ],
      "text/plain": [
       "<pandas.formats.style.Styler at 0x10c929400>"
      ]
     },
     "execution_count": 151,
     "metadata": {},
     "output_type": "execute_result"
    }
   ],
   "source": [
    "data.describe().style.format('{:,.2f}')"
   ]
  },
  {
   "cell_type": "markdown",
   "metadata": {},
   "source": [
    "We could observe that the mean of `Marathon` (153.59) is not very meaningful because it's awfully larger than the median (148.43). This shows that it's biased by extremely large values (having a max of 221.14).\n",
    "\n",
    "### (b) Sample covariance matrix and correlation matrix."
   ]
  },
  {
   "cell_type": "code",
   "execution_count": 152,
   "metadata": {
    "collapsed": false
   },
   "outputs": [],
   "source": [
    "x = np.matrix(data.set_index('Country')).T"
   ]
  },
  {
   "cell_type": "code",
   "execution_count": 5,
   "metadata": {
    "collapsed": false
   },
   "outputs": [
    {
     "data": {
      "text/html": [
       "<div>\n",
       "<table border=\"1\" class=\"dataframe\">\n",
       "  <thead>\n",
       "    <tr style=\"text-align: right;\">\n",
       "      <th></th>\n",
       "      <th>0</th>\n",
       "      <th>1</th>\n",
       "      <th>2</th>\n",
       "      <th>3</th>\n",
       "      <th>4</th>\n",
       "      <th>5</th>\n",
       "      <th>6</th>\n",
       "    </tr>\n",
       "  </thead>\n",
       "  <tbody>\n",
       "    <tr>\n",
       "      <th>0</th>\n",
       "      <td>0.155316</td>\n",
       "      <td>0.344561</td>\n",
       "      <td>0.893425</td>\n",
       "      <td>0.027704</td>\n",
       "      <td>0.087853</td>\n",
       "      <td>0.233883</td>\n",
       "      <td>4.359720</td>\n",
       "    </tr>\n",
       "    <tr>\n",
       "      <th>1</th>\n",
       "      <td>0.344561</td>\n",
       "      <td>0.863088</td>\n",
       "      <td>2.197199</td>\n",
       "      <td>0.066166</td>\n",
       "      <td>0.210027</td>\n",
       "      <td>0.554350</td>\n",
       "      <td>10.437336</td>\n",
       "    </tr>\n",
       "    <tr>\n",
       "      <th>2</th>\n",
       "      <td>0.893425</td>\n",
       "      <td>2.197199</td>\n",
       "      <td>6.761268</td>\n",
       "      <td>0.182010</td>\n",
       "      <td>0.520519</td>\n",
       "      <td>1.428412</td>\n",
       "      <td>29.031031</td>\n",
       "    </tr>\n",
       "    <tr>\n",
       "      <th>3</th>\n",
       "      <td>0.027704</td>\n",
       "      <td>0.066166</td>\n",
       "      <td>0.182010</td>\n",
       "      <td>0.007547</td>\n",
       "      <td>0.021886</td>\n",
       "      <td>0.061379</td>\n",
       "      <td>1.222080</td>\n",
       "    </tr>\n",
       "    <tr>\n",
       "      <th>4</th>\n",
       "      <td>0.087853</td>\n",
       "      <td>0.210027</td>\n",
       "      <td>0.520519</td>\n",
       "      <td>0.021886</td>\n",
       "      <td>0.098711</td>\n",
       "      <td>0.243608</td>\n",
       "      <td>3.268017</td>\n",
       "    </tr>\n",
       "    <tr>\n",
       "      <th>5</th>\n",
       "      <td>0.233883</td>\n",
       "      <td>0.554350</td>\n",
       "      <td>1.428412</td>\n",
       "      <td>0.061379</td>\n",
       "      <td>0.243608</td>\n",
       "      <td>0.664758</td>\n",
       "      <td>10.725245</td>\n",
       "    </tr>\n",
       "    <tr>\n",
       "      <th>6</th>\n",
       "      <td>4.359720</td>\n",
       "      <td>10.437336</td>\n",
       "      <td>29.031031</td>\n",
       "      <td>1.222080</td>\n",
       "      <td>3.268017</td>\n",
       "      <td>10.725245</td>\n",
       "      <td>271.048668</td>\n",
       "    </tr>\n",
       "  </tbody>\n",
       "</table>\n",
       "</div>"
      ],
      "text/plain": [
       "          0          1          2         3         4          5           6\n",
       "0  0.155316   0.344561   0.893425  0.027704  0.087853   0.233883    4.359720\n",
       "1  0.344561   0.863088   2.197199  0.066166  0.210027   0.554350   10.437336\n",
       "2  0.893425   2.197199   6.761268  0.182010  0.520519   1.428412   29.031031\n",
       "3  0.027704   0.066166   0.182010  0.007547  0.021886   0.061379    1.222080\n",
       "4  0.087853   0.210027   0.520519  0.021886  0.098711   0.243608    3.268017\n",
       "5  0.233883   0.554350   1.428412  0.061379  0.243608   0.664758   10.725245\n",
       "6  4.359720  10.437336  29.031031  1.222080  3.268017  10.725245  271.048668"
      ]
     },
     "execution_count": 5,
     "metadata": {},
     "output_type": "execute_result"
    }
   ],
   "source": [
    "# sample covariance matrix\n",
    "pd.DataFrame(np.cov(x))"
   ]
  },
  {
   "cell_type": "code",
   "execution_count": 6,
   "metadata": {
    "collapsed": false
   },
   "outputs": [
    {
     "data": {
      "text/html": [
       "<div>\n",
       "<table border=\"1\" class=\"dataframe\">\n",
       "  <thead>\n",
       "    <tr style=\"text-align: right;\">\n",
       "      <th></th>\n",
       "      <th>0</th>\n",
       "      <th>1</th>\n",
       "      <th>2</th>\n",
       "      <th>3</th>\n",
       "      <th>4</th>\n",
       "      <th>5</th>\n",
       "      <th>6</th>\n",
       "    </tr>\n",
       "  </thead>\n",
       "  <tbody>\n",
       "    <tr>\n",
       "      <th>0</th>\n",
       "      <td>1.000000</td>\n",
       "      <td>0.941089</td>\n",
       "      <td>0.871839</td>\n",
       "      <td>0.809176</td>\n",
       "      <td>0.709526</td>\n",
       "      <td>0.727878</td>\n",
       "      <td>0.671935</td>\n",
       "    </tr>\n",
       "    <tr>\n",
       "      <th>1</th>\n",
       "      <td>0.941089</td>\n",
       "      <td>1.000000</td>\n",
       "      <td>0.909552</td>\n",
       "      <td>0.819826</td>\n",
       "      <td>0.719558</td>\n",
       "      <td>0.731855</td>\n",
       "      <td>0.682399</td>\n",
       "    </tr>\n",
       "    <tr>\n",
       "      <th>2</th>\n",
       "      <td>0.871839</td>\n",
       "      <td>0.909552</td>\n",
       "      <td>1.000000</td>\n",
       "      <td>0.805743</td>\n",
       "      <td>0.637147</td>\n",
       "      <td>0.673764</td>\n",
       "      <td>0.678148</td>\n",
       "    </tr>\n",
       "    <tr>\n",
       "      <th>3</th>\n",
       "      <td>0.809176</td>\n",
       "      <td>0.819826</td>\n",
       "      <td>0.805743</td>\n",
       "      <td>1.000000</td>\n",
       "      <td>0.801870</td>\n",
       "      <td>0.866573</td>\n",
       "      <td>0.854459</td>\n",
       "    </tr>\n",
       "    <tr>\n",
       "      <th>4</th>\n",
       "      <td>0.709526</td>\n",
       "      <td>0.719558</td>\n",
       "      <td>0.637147</td>\n",
       "      <td>0.801870</td>\n",
       "      <td>1.000000</td>\n",
       "      <td>0.950992</td>\n",
       "      <td>0.631798</td>\n",
       "    </tr>\n",
       "    <tr>\n",
       "      <th>5</th>\n",
       "      <td>0.727878</td>\n",
       "      <td>0.731855</td>\n",
       "      <td>0.673764</td>\n",
       "      <td>0.866573</td>\n",
       "      <td>0.950992</td>\n",
       "      <td>1.000000</td>\n",
       "      <td>0.799009</td>\n",
       "    </tr>\n",
       "    <tr>\n",
       "      <th>6</th>\n",
       "      <td>0.671935</td>\n",
       "      <td>0.682399</td>\n",
       "      <td>0.678148</td>\n",
       "      <td>0.854459</td>\n",
       "      <td>0.631798</td>\n",
       "      <td>0.799009</td>\n",
       "      <td>1.000000</td>\n",
       "    </tr>\n",
       "  </tbody>\n",
       "</table>\n",
       "</div>"
      ],
      "text/plain": [
       "          0         1         2         3         4         5         6\n",
       "0  1.000000  0.941089  0.871839  0.809176  0.709526  0.727878  0.671935\n",
       "1  0.941089  1.000000  0.909552  0.819826  0.719558  0.731855  0.682399\n",
       "2  0.871839  0.909552  1.000000  0.805743  0.637147  0.673764  0.678148\n",
       "3  0.809176  0.819826  0.805743  1.000000  0.801870  0.866573  0.854459\n",
       "4  0.709526  0.719558  0.637147  0.801870  1.000000  0.950992  0.631798\n",
       "5  0.727878  0.731855  0.673764  0.866573  0.950992  1.000000  0.799009\n",
       "6  0.671935  0.682399  0.678148  0.854459  0.631798  0.799009  1.000000"
      ]
     },
     "execution_count": 6,
     "metadata": {},
     "output_type": "execute_result"
    }
   ],
   "source": [
    "#sample correlation matrix\n",
    "R = pd.DataFrame(np.corrcoef(x))\n",
    "R"
   ]
  },
  {
   "cell_type": "code",
   "execution_count": null,
   "metadata": {
    "collapsed": true
   },
   "outputs": [],
   "source": []
  },
  {
   "cell_type": "markdown",
   "metadata": {},
   "source": [
    "### (c) Correlation matrix of the logarithm of the data."
   ]
  },
  {
   "cell_type": "code",
   "execution_count": 7,
   "metadata": {
    "collapsed": false
   },
   "outputs": [
    {
     "data": {
      "text/html": [
       "<div>\n",
       "<table border=\"1\" class=\"dataframe\">\n",
       "  <thead>\n",
       "    <tr style=\"text-align: right;\">\n",
       "      <th></th>\n",
       "      <th>0</th>\n",
       "      <th>1</th>\n",
       "      <th>2</th>\n",
       "      <th>3</th>\n",
       "      <th>4</th>\n",
       "      <th>5</th>\n",
       "      <th>6</th>\n",
       "    </tr>\n",
       "  </thead>\n",
       "  <tbody>\n",
       "    <tr>\n",
       "      <th>0</th>\n",
       "      <td>1.000000</td>\n",
       "      <td>0.939717</td>\n",
       "      <td>0.869667</td>\n",
       "      <td>0.803373</td>\n",
       "      <td>0.720351</td>\n",
       "      <td>0.730446</td>\n",
       "      <td>0.669988</td>\n",
       "    </tr>\n",
       "    <tr>\n",
       "      <th>1</th>\n",
       "      <td>0.939717</td>\n",
       "      <td>1.000000</td>\n",
       "      <td>0.908433</td>\n",
       "      <td>0.817876</td>\n",
       "      <td>0.735964</td>\n",
       "      <td>0.738554</td>\n",
       "      <td>0.681834</td>\n",
       "    </tr>\n",
       "    <tr>\n",
       "      <th>2</th>\n",
       "      <td>0.869667</td>\n",
       "      <td>0.908433</td>\n",
       "      <td>1.000000</td>\n",
       "      <td>0.805144</td>\n",
       "      <td>0.660032</td>\n",
       "      <td>0.687277</td>\n",
       "      <td>0.677365</td>\n",
       "    </tr>\n",
       "    <tr>\n",
       "      <th>3</th>\n",
       "      <td>0.803373</td>\n",
       "      <td>0.817876</td>\n",
       "      <td>0.805144</td>\n",
       "      <td>1.000000</td>\n",
       "      <td>0.816497</td>\n",
       "      <td>0.873498</td>\n",
       "      <td>0.855284</td>\n",
       "    </tr>\n",
       "    <tr>\n",
       "      <th>4</th>\n",
       "      <td>0.720351</td>\n",
       "      <td>0.735964</td>\n",
       "      <td>0.660032</td>\n",
       "      <td>0.816497</td>\n",
       "      <td>1.000000</td>\n",
       "      <td>0.945729</td>\n",
       "      <td>0.671157</td>\n",
       "    </tr>\n",
       "    <tr>\n",
       "      <th>5</th>\n",
       "      <td>0.730446</td>\n",
       "      <td>0.738554</td>\n",
       "      <td>0.687277</td>\n",
       "      <td>0.873498</td>\n",
       "      <td>0.945729</td>\n",
       "      <td>1.000000</td>\n",
       "      <td>0.831483</td>\n",
       "    </tr>\n",
       "    <tr>\n",
       "      <th>6</th>\n",
       "      <td>0.669988</td>\n",
       "      <td>0.681834</td>\n",
       "      <td>0.677365</td>\n",
       "      <td>0.855284</td>\n",
       "      <td>0.671157</td>\n",
       "      <td>0.831483</td>\n",
       "      <td>1.000000</td>\n",
       "    </tr>\n",
       "  </tbody>\n",
       "</table>\n",
       "</div>"
      ],
      "text/plain": [
       "          0         1         2         3         4         5         6\n",
       "0  1.000000  0.939717  0.869667  0.803373  0.720351  0.730446  0.669988\n",
       "1  0.939717  1.000000  0.908433  0.817876  0.735964  0.738554  0.681834\n",
       "2  0.869667  0.908433  1.000000  0.805144  0.660032  0.687277  0.677365\n",
       "3  0.803373  0.817876  0.805144  1.000000  0.816497  0.873498  0.855284\n",
       "4  0.720351  0.735964  0.660032  0.816497  1.000000  0.945729  0.671157\n",
       "5  0.730446  0.738554  0.687277  0.873498  0.945729  1.000000  0.831483\n",
       "6  0.669988  0.681834  0.677365  0.855284  0.671157  0.831483  1.000000"
      ]
     },
     "execution_count": 7,
     "metadata": {},
     "output_type": "execute_result"
    }
   ],
   "source": [
    "pd.DataFrame(np.corrcoef(np.log(x)))"
   ]
  },
  {
   "cell_type": "markdown",
   "metadata": {},
   "source": [
    "As observed, the correlation matrix of the logarithm of the data is very similar to that of the original data.\n",
    "\n",
    "## Question 3: Population pca\n",
    "\n",
    "### (a) What are the eigenvalues  1    2    3 of $\\Sigma$? The following R commands define the matrix and compute the eigenvalues/vectors:"
   ]
  },
  {
   "cell_type": "code",
   "execution_count": 132,
   "metadata": {
    "collapsed": false
   },
   "outputs": [],
   "source": [
    "sigma = np.matrix([[2, -1, 1], [-1, 5, 0], [1, 0, 3]])"
   ]
  },
  {
   "cell_type": "code",
   "execution_count": 134,
   "metadata": {
    "collapsed": false
   },
   "outputs": [],
   "source": [
    "s_val, s_vec = np.linalg.eig(sigma)"
   ]
  },
  {
   "cell_type": "code",
   "execution_count": 135,
   "metadata": {
    "collapsed": false
   },
   "outputs": [
    {
     "data": {
      "text/plain": [
       "array([ 1.1863935 ,  3.47068342,  5.34292308])"
      ]
     },
     "execution_count": 135,
     "metadata": {},
     "output_type": "execute_result"
    }
   ],
   "source": [
    "s_val"
   ]
  },
  {
   "cell_type": "code",
   "execution_count": 136,
   "metadata": {
    "collapsed": false
   },
   "outputs": [
    {
     "data": {
      "text/plain": [
       "matrix([[ 0.85348997,  0.41025777, -0.32131516],\n",
       "        [ 0.22380127,  0.26826216,  0.93698901],\n",
       "        [-0.47060372,  0.87162146, -0.13714285]])"
      ]
     },
     "execution_count": 136,
     "metadata": {},
     "output_type": "execute_result"
    }
   ],
   "source": [
    "s_vec"
   ]
  },
  {
   "cell_type": "code",
   "execution_count": 137,
   "metadata": {
    "collapsed": true
   },
   "outputs": [],
   "source": [
    "# a = -0.47060372\n",
    "# b = 0.87162146\n",
    "# c = -0.13714285\n",
    "# a**2*2 + b**2*5 + c**2*3 +a*b*(-1)*2 + a*c*2"
   ]
  },
  {
   "cell_type": "markdown",
   "metadata": {},
   "source": [
    "## Question 4: Sample pca\n",
    "\n",
    "### (a) Obtain the eigenvalues and eigenvectors for the sample correlation matrix R. What is the sum of all eigenvalues? Compare it to the dimensions of the data."
   ]
  },
  {
   "cell_type": "code",
   "execution_count": 153,
   "metadata": {
    "collapsed": false
   },
   "outputs": [],
   "source": [
    "val, vec = np.linalg.eig(R)"
   ]
  },
  {
   "cell_type": "code",
   "execution_count": 154,
   "metadata": {
    "collapsed": false
   },
   "outputs": [
    {
     "data": {
      "text/plain": [
       "7.0"
      ]
     },
     "execution_count": 154,
     "metadata": {},
     "output_type": "execute_result"
    }
   ],
   "source": [
    "sum(val)"
   ]
  },
  {
   "cell_type": "markdown",
   "metadata": {},
   "source": [
    "We could observe that sum of eigenvalues of the correlation matrix of data is the same as the dimension, 7, of the data.\n",
    "\n",
    "### (b) Determine the first two principal components for the standardized (variance = 1) variables.\n",
    "(i) Compare the two principal components PC1 and PC1 with the eigenvectors in (a).\n",
    "Comment.\n",
    "\n",
    "(ii) What are the percentages of total (standardized) sample variation explained by the\n",
    "first and second principal components?"
   ]
  },
  {
   "cell_type": "code",
   "execution_count": 11,
   "metadata": {
    "collapsed": false
   },
   "outputs": [],
   "source": [
    "x = data.set_index('Country')"
   ]
  },
  {
   "cell_type": "code",
   "execution_count": 13,
   "metadata": {
    "collapsed": true
   },
   "outputs": [],
   "source": [
    "x_std = preprocessing.scale(x)"
   ]
  },
  {
   "cell_type": "code",
   "execution_count": 14,
   "metadata": {
    "collapsed": false
   },
   "outputs": [
    {
     "data": {
      "text/html": [
       "<div>\n",
       "<table border=\"1\" class=\"dataframe\">\n",
       "  <thead>\n",
       "    <tr style=\"text-align: right;\">\n",
       "      <th></th>\n",
       "      <th>0</th>\n",
       "      <th>1</th>\n",
       "      <th>2</th>\n",
       "      <th>3</th>\n",
       "      <th>4</th>\n",
       "      <th>5</th>\n",
       "      <th>6</th>\n",
       "    </tr>\n",
       "  </thead>\n",
       "  <tbody>\n",
       "    <tr>\n",
       "      <th>count</th>\n",
       "      <td>5.400000e+01</td>\n",
       "      <td>5.400000e+01</td>\n",
       "      <td>5.400000e+01</td>\n",
       "      <td>5.400000e+01</td>\n",
       "      <td>5.400000e+01</td>\n",
       "      <td>5.400000e+01</td>\n",
       "      <td>5.400000e+01</td>\n",
       "    </tr>\n",
       "    <tr>\n",
       "      <th>mean</th>\n",
       "      <td>-1.784581e-15</td>\n",
       "      <td>1.854484e-15</td>\n",
       "      <td>9.745291e-16</td>\n",
       "      <td>-3.382068e-15</td>\n",
       "      <td>1.772245e-15</td>\n",
       "      <td>5.304399e-16</td>\n",
       "      <td>-6.023988e-16</td>\n",
       "    </tr>\n",
       "    <tr>\n",
       "      <th>std</th>\n",
       "      <td>1.009390e+00</td>\n",
       "      <td>1.009390e+00</td>\n",
       "      <td>1.009390e+00</td>\n",
       "      <td>1.009390e+00</td>\n",
       "      <td>1.009390e+00</td>\n",
       "      <td>1.009390e+00</td>\n",
       "      <td>1.009390e+00</td>\n",
       "    </tr>\n",
       "    <tr>\n",
       "      <th>min</th>\n",
       "      <td>-2.222592e+00</td>\n",
       "      <td>-1.932367e+00</td>\n",
       "      <td>-1.702862e+00</td>\n",
       "      <td>-1.538460e+00</td>\n",
       "      <td>-1.122676e+00</td>\n",
       "      <td>-1.214175e+00</td>\n",
       "      <td>-1.124458e+00</td>\n",
       "    </tr>\n",
       "    <tr>\n",
       "      <th>25%</th>\n",
       "      <td>-6.026042e-01</td>\n",
       "      <td>-5.959676e-01</td>\n",
       "      <td>-7.838213e-01</td>\n",
       "      <td>-6.089289e-01</td>\n",
       "      <td>-6.006047e-01</td>\n",
       "      <td>-6.663521e-01</td>\n",
       "      <td>-6.198725e-01</td>\n",
       "    </tr>\n",
       "    <tr>\n",
       "      <th>50%</th>\n",
       "      <td>-8.395194e-02</td>\n",
       "      <td>-1.505009e-01</td>\n",
       "      <td>-1.326317e-01</td>\n",
       "      <td>-2.022591e-01</td>\n",
       "      <td>-2.873621e-01</td>\n",
       "      <td>-2.918514e-01</td>\n",
       "      <td>-3.163852e-01</td>\n",
       "    </tr>\n",
       "    <tr>\n",
       "      <th>75%</th>\n",
       "      <td>5.371501e-01</td>\n",
       "      <td>5.339966e-01</td>\n",
       "      <td>4.389787e-01</td>\n",
       "      <td>5.529849e-01</td>\n",
       "      <td>4.194416e-01</td>\n",
       "      <td>3.023975e-01</td>\n",
       "      <td>2.498178e-01</td>\n",
       "    </tr>\n",
       "    <tr>\n",
       "      <th>max</th>\n",
       "      <td>2.976737e+00</td>\n",
       "      <td>3.032956e+00</td>\n",
       "      <td>3.751214e+00</td>\n",
       "      <td>3.109195e+00</td>\n",
       "      <td>5.559832e+00</td>\n",
       "      <td>5.000678e+00</td>\n",
       "      <td>4.141506e+00</td>\n",
       "    </tr>\n",
       "  </tbody>\n",
       "</table>\n",
       "</div>"
      ],
      "text/plain": [
       "                  0             1             2             3             4  \\\n",
       "count  5.400000e+01  5.400000e+01  5.400000e+01  5.400000e+01  5.400000e+01   \n",
       "mean  -1.784581e-15  1.854484e-15  9.745291e-16 -3.382068e-15  1.772245e-15   \n",
       "std    1.009390e+00  1.009390e+00  1.009390e+00  1.009390e+00  1.009390e+00   \n",
       "min   -2.222592e+00 -1.932367e+00 -1.702862e+00 -1.538460e+00 -1.122676e+00   \n",
       "25%   -6.026042e-01 -5.959676e-01 -7.838213e-01 -6.089289e-01 -6.006047e-01   \n",
       "50%   -8.395194e-02 -1.505009e-01 -1.326317e-01 -2.022591e-01 -2.873621e-01   \n",
       "75%    5.371501e-01  5.339966e-01  4.389787e-01  5.529849e-01  4.194416e-01   \n",
       "max    2.976737e+00  3.032956e+00  3.751214e+00  3.109195e+00  5.559832e+00   \n",
       "\n",
       "                  5             6  \n",
       "count  5.400000e+01  5.400000e+01  \n",
       "mean   5.304399e-16 -6.023988e-16  \n",
       "std    1.009390e+00  1.009390e+00  \n",
       "min   -1.214175e+00 -1.124458e+00  \n",
       "25%   -6.663521e-01 -6.198725e-01  \n",
       "50%   -2.918514e-01 -3.163852e-01  \n",
       "75%    3.023975e-01  2.498178e-01  \n",
       "max    5.000678e+00  4.141506e+00  "
      ]
     },
     "execution_count": 14,
     "metadata": {},
     "output_type": "execute_result"
    }
   ],
   "source": [
    "pd.DataFrame(x_std).describe()"
   ]
  },
  {
   "cell_type": "markdown",
   "metadata": {},
   "source": [
    "Due to numeric error, means of the variables are not exactly 0 but are close enough; similarily, stds (thus variance) of the variables are around 1."
   ]
  },
  {
   "cell_type": "code",
   "execution_count": 15,
   "metadata": {
    "collapsed": false
   },
   "outputs": [],
   "source": [
    "pca = PCA(n_components=2)\n",
    "pcs = pca.fit_transform(x_std)"
   ]
  },
  {
   "cell_type": "code",
   "execution_count": 16,
   "metadata": {
    "collapsed": false
   },
   "outputs": [],
   "source": [
    "pc_1 = pd.DataFrame(pcs)[0]\n",
    "pc_2 = pd.DataFrame(pcs)[1]"
   ]
  },
  {
   "cell_type": "code",
   "execution_count": 19,
   "metadata": {
    "collapsed": false
   },
   "outputs": [
    {
     "data": {
      "text/plain": [
       "array([[ 0.38338846,  0.3882385 ,  0.37281968,  0.39795681,  0.36383253,\n",
       "         0.38350493,  0.35421728],\n",
       "       [-0.38061252, -0.39338927, -0.46500155,  0.12016153,  0.43811047,\n",
       "         0.46976459,  0.23894391]])"
      ]
     },
     "execution_count": 19,
     "metadata": {},
     "output_type": "execute_result"
    }
   ],
   "source": [
    "pca.components_"
   ]
  },
  {
   "cell_type": "code",
   "execution_count": 34,
   "metadata": {
    "collapsed": false
   },
   "outputs": [
    {
     "data": {
      "text/plain": [
       "['100m', '200m', '400m', '800m', '1500m', '3000m', 'Marathon']"
      ]
     },
     "execution_count": 34,
     "metadata": {},
     "output_type": "execute_result"
    }
   ],
   "source": [
    "colnames[1:]"
   ]
  },
  {
   "cell_type": "markdown",
   "metadata": {},
   "source": [
    "Note: if we look at the first pc, we can see that the coefficients of each variable is very similar, so we could understand it as the average performance of a country on all lengths of races. For the second pc, the largest coefficients are for 3000m and 1500m and Marathon, and it places negative coeffecients on short lenght races. Thus, we could understand it as a measurement of performances on long-distance races verses shorter ones."
   ]
  },
  {
   "cell_type": "code",
   "execution_count": 164,
   "metadata": {
    "collapsed": false
   },
   "outputs": [
    {
     "data": {
      "text/plain": [
       "[0.38338845656930115,\n",
       " 0.38823850472417609,\n",
       " 0.37281967564032248,\n",
       " 0.39795680672545297,\n",
       " 0.36383252741962147,\n",
       " 0.38350493115367912,\n",
       " 0.35421728363750477]"
      ]
     },
     "execution_count": 164,
     "metadata": {},
     "output_type": "execute_result"
    }
   ],
   "source": [
    "vec_1 = [x[0] for x in vec]\n",
    "vec_1"
   ]
  },
  {
   "cell_type": "code",
   "execution_count": 165,
   "metadata": {
    "collapsed": false
   },
   "outputs": [
    {
     "data": {
      "text/plain": [
       "[-0.38061252407340435,\n",
       " -0.39338927160174614,\n",
       " -0.46500155446934571,\n",
       " 0.12016153389753625,\n",
       " 0.43811047039801221,\n",
       " 0.46976459316104824,\n",
       " 0.23894390630327966]"
      ]
     },
     "execution_count": 165,
     "metadata": {},
     "output_type": "execute_result"
    }
   ],
   "source": [
    "vec_2 = [x[1] for x in vec]\n",
    "vec_2"
   ]
  },
  {
   "cell_type": "markdown",
   "metadata": {},
   "source": [
    "We could observe that first two eigenvectors are exactly the same as first two principal components."
   ]
  },
  {
   "cell_type": "code",
   "execution_count": 23,
   "metadata": {
    "collapsed": false
   },
   "outputs": [
    {
     "data": {
      "text/plain": [
       "'90.12% of total sample variance is explained by the first two principal components'"
      ]
     },
     "execution_count": 23,
     "metadata": {},
     "output_type": "execute_result"
    }
   ],
   "source": [
    "'{:.2f}%'.format(sum(pca.explained_variance_ratio_)*100) + ' of total sample variance\\\n",
    " is explained by the first two principal components'"
   ]
  },
  {
   "cell_type": "markdown",
   "metadata": {},
   "source": [
    "### (c) Every observation has its coordinates in the space of principle components (PC1, . . . , PC7).\n",
    "(i) Construct a two-dimensional scatterplot of the 54 observations in the (PC1, PC2) plane.\n",
    "\n",
    "(ii) Rank the nations based on their scores on the first principal component. List the top six and the last three countries. In your opinion, does the ranking correspond with athletic excellence for the counties?"
   ]
  },
  {
   "cell_type": "code",
   "execution_count": 28,
   "metadata": {
    "collapsed": false
   },
   "outputs": [
    {
     "data": {
      "image/png": "[encoded data removed]",
      "text/plain": [
       "<matplotlib.figure.Figure at 0x10cbee630>"
      ]
     },
     "metadata": {},
     "output_type": "display_data"
    }
   ],
   "source": [
    "plt.scatter(pc_1, pc_2)\n",
    "plt.xlabel('PC1')\n",
    "plt.ylabel('PC2')\n",
    "# plt.annotate(, pc_1, pc_2)\n",
    "\n",
    "for label, x, y in zip(list(data['Country']), pc_1, pc_2):\n",
    "    plt.annotate(\n",
    "        label,\n",
    "        xy=(x, y), xytext=(0, 0),\n",
    "        textcoords='offset points')"
   ]
  },
  {
   "cell_type": "markdown",
   "metadata": {},
   "source": [
    "SAM: Samoa\n",
    "\n",
    "COK: Cook Islands\n",
    "\n",
    "PNG: Papua New Guinea\n",
    "\n",
    "GUA: Guatemala\n",
    "\n",
    "SIN: Singapore"
   ]
  },
  {
   "cell_type": "code",
   "execution_count": 29,
   "metadata": {
    "collapsed": false
   },
   "outputs": [],
   "source": [
    "pc_df = pd.DataFrame(pcs)\n",
    "pc_df.columns = ['PC1', 'PC2']\n",
    "pc_df['country'] = list(data['Country'])\n",
    "pc_df.set_index('country', inplace = True )"
   ]
  },
  {
   "cell_type": "code",
   "execution_count": null,
   "metadata": {
    "collapsed": true
   },
   "outputs": [],
   "source": [
    "# Top 6 countries with highest value of PC1\n",
    "pc_df.sort_values('PC1', ascending = False)[:6]"
   ]
  },
  {
   "cell_type": "code",
   "execution_count": 32,
   "metadata": {
    "collapsed": false
   },
   "outputs": [
    {
     "data": {
      "text/html": [
       "<div>\n",
       "<table border=\"1\" class=\"dataframe\">\n",
       "  <thead>\n",
       "    <tr style=\"text-align: right;\">\n",
       "      <th></th>\n",
       "      <th>PC1</th>\n",
       "      <th>PC2</th>\n",
       "    </tr>\n",
       "    <tr>\n",
       "      <th>country</th>\n",
       "      <th></th>\n",
       "      <th></th>\n",
       "    </tr>\n",
       "  </thead>\n",
       "  <tbody>\n",
       "    <tr>\n",
       "      <th>USA</th>\n",
       "      <td>-3.351726</td>\n",
       "      <td>1.163899</td>\n",
       "    </tr>\n",
       "    <tr>\n",
       "      <th>GER</th>\n",
       "      <td>-3.043254</td>\n",
       "      <td>0.952144</td>\n",
       "    </tr>\n",
       "    <tr>\n",
       "      <th>RUS</th>\n",
       "      <td>-3.012708</td>\n",
       "      <td>0.431886</td>\n",
       "    </tr>\n",
       "  </tbody>\n",
       "</table>\n",
       "</div>"
      ],
      "text/plain": [
       "              PC1       PC2\n",
       "country                    \n",
       "USA     -3.351726  1.163899\n",
       "GER     -3.043254  0.952144\n",
       "RUS     -3.012708  0.431886"
      ]
     },
     "execution_count": 32,
     "metadata": {},
     "output_type": "execute_result"
    }
   ],
   "source": [
    "# Top 3 countries with lowest value of PC1\n",
    "pc_df.sort_values('PC1')[:3]"
   ]
  },
  {
   "cell_type": "markdown",
   "metadata": {
    "collapsed": true
   },
   "source": [
    "#In your opinion, does the ranking correspond with athletic excellence for the counties?\n",
    "\n",
    "Yes,according to our earlier analysis of the meanings of PC1 and PC2, Samoa, Cook Islands and Papua New Guinea are countries that have excellent performance on all kinds of races, and USA, Germany and Russia are countries that are great at long-distance races."
   ]
  },
  {
   "cell_type": "markdown",
   "metadata": {},
   "source": [
    "## Question 5: Scaling effects in sample PCA\n",
    "\n",
    "### (a) In each of the two cases, how many principal components are needed to effectively summarize at least 90% of the variability in the data?"
   ]
  },
  {
   "cell_type": "code",
   "execution_count": 36,
   "metadata": {
    "collapsed": false
   },
   "outputs": [
    {
     "name": "stderr",
     "output_type": "stream",
     "text": [
      "/Library/Frameworks/Python.framework/Versions/3.5/lib/python3.5/site-packages/ipykernel/__main__.py:2: ParserWarning: Falling back to the 'python' engine because the 'c' engine does not support regex separators (separators > 1 char and different from '\\s+' are interpreted as regex); you can avoid this warning by specifying engine='python'.\n",
      "  from ipykernel import kernelapp as app\n"
     ]
    }
   ],
   "source": [
    "col_names = [\"Wind\", \"Radiation\", \"CO\", \"NO\", \"NO2\", \"O3\", \"HC\"]\n",
    "data = pd.read_table('http://www.stat.uchicago.edu/~lekheng/courses/331/hw2/p5.txt', sep = '  ', names = col_names)"
   ]
  },
  {
   "cell_type": "code",
   "execution_count": 37,
   "metadata": {
    "collapsed": false
   },
   "outputs": [
    {
     "name": "stderr",
     "output_type": "stream",
     "text": [
      "/Library/Frameworks/Python.framework/Versions/3.5/lib/python3.5/site-packages/sklearn/utils/validation.py:429: DataConversionWarning: Data with input dtype int64 was converted to float64 by the scale function.\n",
      "  warnings.warn(msg, _DataConversionWarning)\n"
     ]
    }
   ],
   "source": [
    "w = np.matrix(data)\n",
    "w_std = preprocessing.scale(w)"
   ]
  },
  {
   "cell_type": "code",
   "execution_count": 38,
   "metadata": {
    "collapsed": true
   },
   "outputs": [],
   "source": [
    "pca_1 = PCA(n_components=7)\n",
    "pcs_1 = pca_1.fit_transform(w)\n",
    "\n",
    "pca_2 = PCA(n_components=7)\n",
    "pcs_2 = pca_2.fit_transform(w_std)"
   ]
  },
  {
   "cell_type": "code",
   "execution_count": 39,
   "metadata": {
    "collapsed": false
   },
   "outputs": [
    {
     "data": {
      "text/plain": [
       "0.95134442723934998"
      ]
     },
     "execution_count": 39,
     "metadata": {},
     "output_type": "execute_result"
    }
   ],
   "source": [
    "sum(pca_1.explained_variance_ratio_[:2])"
   ]
  },
  {
   "cell_type": "code",
   "execution_count": 40,
   "metadata": {
    "collapsed": false
   },
   "outputs": [
    {
     "data": {
      "text/plain": [
       "0.97670351788092657"
      ]
     },
     "execution_count": 40,
     "metadata": {},
     "output_type": "execute_result"
    }
   ],
   "source": [
    "sum(pca_2.explained_variance_ratio_[:6])"
   ]
  },
  {
   "cell_type": "markdown",
   "metadata": {},
   "source": [
    "If we do PCA on original dataset, we need first two principal components to effectively summarize at least 90% of the variability in the data; however, if we standarize the data first, we need first 6 components to achieve this goal."
   ]
  },
  {
   "cell_type": "markdown",
   "metadata": {},
   "source": [
    "### (b) Plot two scree plots, one from pca based on the original data, one based on the standardized data.\n"
   ]
  },
  {
   "cell_type": "code",
   "execution_count": 41,
   "metadata": {
    "collapsed": false
   },
   "outputs": [
    {
     "data": {
      "text/plain": [
       "<matplotlib.text.Text at 0x10c8b0898>"
      ]
     },
     "execution_count": 41,
     "metadata": {},
     "output_type": "execute_result"
    },
    {
     "data": {
      "image/png": "[encoded data removed]",
      "text/plain": [
       "<matplotlib.figure.Figure at 0x10ca33c18>"
      ]
     },
     "metadata": {},
     "output_type": "display_data"
    }
   ],
   "source": [
    "fig = plt.figure(figsize=(12,5))\n",
    "ax1 = fig.add_subplot(121)\n",
    "ax2 = fig.add_subplot(122)\n",
    "pc_num = np.arange(7) + 1\n",
    "\n",
    "ax1.plot(pc_num, pca_1.explained_variance_ratio_, 'ro-', linewidth=2)\n",
    "ax1.set_title('Scree Plot of PCA on original data')\n",
    "ax1.set_xlabel('Principal Component')\n",
    "ax1.set_ylabel('Proportion of Explained Variance')\n",
    "\n",
    "ax2.plot(pc_num, pca_2.explained_variance_ratio_, 'ro-', linewidth=2)\n",
    "ax2.set_title('Scree Plot of PCA on standarized data')\n",
    "ax2.set_xlabel('Principal Component')\n",
    "ax2.set_ylabel('Proportion of Explained Variance')"
   ]
  },
  {
   "cell_type": "markdown",
   "metadata": {},
   "source": [
    "### (c) Compare and comment, based on your results in (a) and (b).\n",
    "\n",
    "With original data, we find the 'elbow' of scree plot at the second pc. This shows that the first principal component  provides extremely more information that the other components, whereas the situation in the second plot is entirely different. Even though the first two components provide relatively more information than the others, we do need many more principal components to get 90% of the variantion in the data. If we take a look at the summary statistics of original data shown below, we could see that the `Radiation` variable has a std that's around 17 times as that of the others. Also, means of the variables also have a considerabe discrepancy. Thus, if we do not standarize the data, only considering (,meaning assigning a large coefficient to,) the variables with large std would capture the largest variance of the dataset; however, this would result in misleading structure of the dataset. This shows us the necessity of standarization before performing PCA.\n",
    "\n",
    "Note, we could observe below that the pc1 of original dataset indeed assign an extremely large (absolute value) coefficient to `radiation`, th esecond variable, compared to the others."
   ]
  },
  {
   "cell_type": "code",
   "execution_count": 42,
   "metadata": {
    "collapsed": false
   },
   "outputs": [
    {
     "data": {
      "text/html": [
       "<div>\n",
       "<table border=\"1\" class=\"dataframe\">\n",
       "  <thead>\n",
       "    <tr style=\"text-align: right;\">\n",
       "      <th></th>\n",
       "      <th>Wind</th>\n",
       "      <th>Radiation</th>\n",
       "      <th>CO</th>\n",
       "      <th>NO</th>\n",
       "      <th>NO2</th>\n",
       "      <th>O3</th>\n",
       "      <th>HC</th>\n",
       "    </tr>\n",
       "  </thead>\n",
       "  <tbody>\n",
       "    <tr>\n",
       "      <th>count</th>\n",
       "      <td>42.000000</td>\n",
       "      <td>42.000000</td>\n",
       "      <td>42.000000</td>\n",
       "      <td>42.000000</td>\n",
       "      <td>42.000000</td>\n",
       "      <td>42.000000</td>\n",
       "      <td>42.000000</td>\n",
       "    </tr>\n",
       "    <tr>\n",
       "      <th>mean</th>\n",
       "      <td>7.500000</td>\n",
       "      <td>74.142857</td>\n",
       "      <td>4.547619</td>\n",
       "      <td>2.190476</td>\n",
       "      <td>10.047619</td>\n",
       "      <td>9.404762</td>\n",
       "      <td>3.095238</td>\n",
       "    </tr>\n",
       "    <tr>\n",
       "      <th>std</th>\n",
       "      <td>1.700072</td>\n",
       "      <td>17.040227</td>\n",
       "      <td>1.233721</td>\n",
       "      <td>1.087357</td>\n",
       "      <td>3.370984</td>\n",
       "      <td>5.565834</td>\n",
       "      <td>0.691747</td>\n",
       "    </tr>\n",
       "    <tr>\n",
       "      <th>min</th>\n",
       "      <td>3.000000</td>\n",
       "      <td>30.000000</td>\n",
       "      <td>2.000000</td>\n",
       "      <td>1.000000</td>\n",
       "      <td>5.000000</td>\n",
       "      <td>2.000000</td>\n",
       "      <td>2.000000</td>\n",
       "    </tr>\n",
       "    <tr>\n",
       "      <th>25%</th>\n",
       "      <td>6.000000</td>\n",
       "      <td>68.250000</td>\n",
       "      <td>4.000000</td>\n",
       "      <td>1.000000</td>\n",
       "      <td>8.000000</td>\n",
       "      <td>6.000000</td>\n",
       "      <td>3.000000</td>\n",
       "    </tr>\n",
       "    <tr>\n",
       "      <th>50%</th>\n",
       "      <td>8.000000</td>\n",
       "      <td>76.500000</td>\n",
       "      <td>4.000000</td>\n",
       "      <td>2.000000</td>\n",
       "      <td>9.500000</td>\n",
       "      <td>8.500000</td>\n",
       "      <td>3.000000</td>\n",
       "    </tr>\n",
       "    <tr>\n",
       "      <th>75%</th>\n",
       "      <td>9.000000</td>\n",
       "      <td>84.750000</td>\n",
       "      <td>5.000000</td>\n",
       "      <td>3.000000</td>\n",
       "      <td>12.000000</td>\n",
       "      <td>11.000000</td>\n",
       "      <td>3.000000</td>\n",
       "    </tr>\n",
       "    <tr>\n",
       "      <th>max</th>\n",
       "      <td>10.000000</td>\n",
       "      <td>107.000000</td>\n",
       "      <td>7.000000</td>\n",
       "      <td>5.000000</td>\n",
       "      <td>21.000000</td>\n",
       "      <td>25.000000</td>\n",
       "      <td>5.000000</td>\n",
       "    </tr>\n",
       "  </tbody>\n",
       "</table>\n",
       "</div>"
      ],
      "text/plain": [
       "            Wind   Radiation         CO         NO        NO2         O3  \\\n",
       "count  42.000000   42.000000  42.000000  42.000000  42.000000  42.000000   \n",
       "mean    7.500000   74.142857   4.547619   2.190476  10.047619   9.404762   \n",
       "std     1.700072   17.040227   1.233721   1.087357   3.370984   5.565834   \n",
       "min     3.000000   30.000000   2.000000   1.000000   5.000000   2.000000   \n",
       "25%     6.000000   68.250000   4.000000   1.000000   8.000000   6.000000   \n",
       "50%     8.000000   76.500000   4.000000   2.000000   9.500000   8.500000   \n",
       "75%     9.000000   84.750000   5.000000   3.000000  12.000000  11.000000   \n",
       "max    10.000000  107.000000   7.000000   5.000000  21.000000  25.000000   \n",
       "\n",
       "              HC  \n",
       "count  42.000000  \n",
       "mean    3.095238  \n",
       "std     0.691747  \n",
       "min     2.000000  \n",
       "25%     3.000000  \n",
       "50%     3.000000  \n",
       "75%     3.000000  \n",
       "max     5.000000  "
      ]
     },
     "execution_count": 42,
     "metadata": {},
     "output_type": "execute_result"
    }
   ],
   "source": [
    "data.describe()"
   ]
  },
  {
   "cell_type": "code",
   "execution_count": 45,
   "metadata": {
    "collapsed": false
   },
   "outputs": [
    {
     "data": {
      "text/plain": [
       "array([ 0.01113723, -0.99327125, -0.01298988,  0.00607468, -0.02164493,\n",
       "       -0.11229467, -0.00198534])"
      ]
     },
     "execution_count": 45,
     "metadata": {},
     "output_type": "execute_result"
    }
   ],
   "source": [
    "pca_1.components_[0]"
   ]
  },
  {
   "cell_type": "markdown",
   "metadata": {},
   "source": [
    "## Question 6:  Demographic data\n",
    "\n",
    "### (a) (Standardizing) \n",
    "Write a program to (i) mean center the data matrix and then (ii) scale it by standard deviation . Denote the standardized data matrix by A_hat ."
   ]
  },
  {
   "cell_type": "code",
   "execution_count": 100,
   "metadata": {
    "collapsed": true
   },
   "outputs": [],
   "source": [
    "def plot_pca(matrix, labels, c):\n",
    "    pca_a = PCA(n_components = 2)\n",
    "    pcs_a = pca_a.fit_transform(matrix)\n",
    "    pc_a_1 = list(pd.DataFrame(pcs_a)[0])\n",
    "    pc_a_2 = list(pd.DataFrame(pcs_a)[1])\n",
    "    \n",
    "    plt.scatter(pc_a_1, pc_a_2)\n",
    "    plt.xlabel('PC1')\n",
    "    plt.ylabel('PC2')\n",
    "\n",
    "    for label, x, y in zip(labels, pc_a_1, pc_a_2):\n",
    "        plt.annotate(\n",
    "            label,\n",
    "            xy=(x, y), xytext=(-10, 0),\n",
    "            textcoords='offset points', color = c)"
   ]
  },
  {
   "cell_type": "code",
   "execution_count": 46,
   "metadata": {
    "collapsed": false
   },
   "outputs": [],
   "source": [
    "data = pd.read_table('http://www.stat.uchicago.edu/~lekheng/courses/331/hw2/p6-data.txt',sep = ',')"
   ]
  },
  {
   "cell_type": "code",
   "execution_count": 47,
   "metadata": {
    "collapsed": false
   },
   "outputs": [],
   "source": [
    "A = np.matrix(data)\n",
    "A_hat = preprocessing.scale(A)"
   ]
  },
  {
   "cell_type": "code",
   "execution_count": 48,
   "metadata": {
    "collapsed": false
   },
   "outputs": [
    {
     "data": {
      "text/html": [
       "<div>\n",
       "<table border=\"1\" class=\"dataframe\">\n",
       "  <thead>\n",
       "    <tr style=\"text-align: right;\">\n",
       "      <th></th>\n",
       "      <th>0</th>\n",
       "      <th>1</th>\n",
       "      <th>2</th>\n",
       "      <th>3</th>\n",
       "      <th>4</th>\n",
       "      <th>5</th>\n",
       "      <th>6</th>\n",
       "    </tr>\n",
       "  </thead>\n",
       "  <tbody>\n",
       "    <tr>\n",
       "      <th>count</th>\n",
       "      <td>4.900000e+01</td>\n",
       "      <td>4.900000e+01</td>\n",
       "      <td>4.900000e+01</td>\n",
       "      <td>4.900000e+01</td>\n",
       "      <td>4.900000e+01</td>\n",
       "      <td>4.900000e+01</td>\n",
       "      <td>4.900000e+01</td>\n",
       "    </tr>\n",
       "    <tr>\n",
       "      <th>mean</th>\n",
       "      <td>-1.132881e-16</td>\n",
       "      <td>5.437827e-17</td>\n",
       "      <td>-3.511930e-17</td>\n",
       "      <td>4.531523e-18</td>\n",
       "      <td>4.885548e-16</td>\n",
       "      <td>1.699321e-17</td>\n",
       "      <td>-4.078370e-17</td>\n",
       "    </tr>\n",
       "    <tr>\n",
       "      <th>std</th>\n",
       "      <td>1.010363e+00</td>\n",
       "      <td>1.010363e+00</td>\n",
       "      <td>1.010363e+00</td>\n",
       "      <td>1.010363e+00</td>\n",
       "      <td>1.010363e+00</td>\n",
       "      <td>1.010363e+00</td>\n",
       "      <td>1.010363e+00</td>\n",
       "    </tr>\n",
       "    <tr>\n",
       "      <th>min</th>\n",
       "      <td>-9.657541e-01</td>\n",
       "      <td>-8.339634e-01</td>\n",
       "      <td>-4.172356e-01</td>\n",
       "      <td>-3.204750e-01</td>\n",
       "      <td>-2.694654e+00</td>\n",
       "      <td>-1.165962e+00</td>\n",
       "      <td>-1.127294e+00</td>\n",
       "    </tr>\n",
       "    <tr>\n",
       "      <th>25%</th>\n",
       "      <td>-6.559215e-01</td>\n",
       "      <td>-6.715942e-01</td>\n",
       "      <td>-3.885427e-01</td>\n",
       "      <td>-2.696786e-01</td>\n",
       "      <td>-8.522834e-01</td>\n",
       "      <td>-5.609539e-01</td>\n",
       "      <td>-6.959049e-01</td>\n",
       "    </tr>\n",
       "    <tr>\n",
       "      <th>50%</th>\n",
       "      <td>-3.460890e-01</td>\n",
       "      <td>-5.530389e-01</td>\n",
       "      <td>-2.771467e-01</td>\n",
       "      <td>-2.470415e-01</td>\n",
       "      <td>4.221719e-01</td>\n",
       "      <td>-1.439096e-01</td>\n",
       "      <td>-3.547154e-01</td>\n",
       "    </tr>\n",
       "    <tr>\n",
       "      <th>75%</th>\n",
       "      <td>5.237162e-01</td>\n",
       "      <td>3.399918e-01</td>\n",
       "      <td>-1.353699e-01</td>\n",
       "      <td>-1.513690e-01</td>\n",
       "      <td>8.469903e-01</td>\n",
       "      <td>3.465579e-01</td>\n",
       "      <td>5.472798e-01</td>\n",
       "    </tr>\n",
       "    <tr>\n",
       "      <th>max</th>\n",
       "      <td>4.960860e+00</td>\n",
       "      <td>2.917281e+00</td>\n",
       "      <td>4.782933e+00</td>\n",
       "      <td>5.062111e+00</td>\n",
       "      <td>8.469903e-01</td>\n",
       "      <td>4.616856e+00</td>\n",
       "      <td>3.782697e+00</td>\n",
       "    </tr>\n",
       "  </tbody>\n",
       "</table>\n",
       "</div>"
      ],
      "text/plain": [
       "                  0             1             2             3             4  \\\n",
       "count  4.900000e+01  4.900000e+01  4.900000e+01  4.900000e+01  4.900000e+01   \n",
       "mean  -1.132881e-16  5.437827e-17 -3.511930e-17  4.531523e-18  4.885548e-16   \n",
       "std    1.010363e+00  1.010363e+00  1.010363e+00  1.010363e+00  1.010363e+00   \n",
       "min   -9.657541e-01 -8.339634e-01 -4.172356e-01 -3.204750e-01 -2.694654e+00   \n",
       "25%   -6.559215e-01 -6.715942e-01 -3.885427e-01 -2.696786e-01 -8.522834e-01   \n",
       "50%   -3.460890e-01 -5.530389e-01 -2.771467e-01 -2.470415e-01  4.221719e-01   \n",
       "75%    5.237162e-01  3.399918e-01 -1.353699e-01 -1.513690e-01  8.469903e-01   \n",
       "max    4.960860e+00  2.917281e+00  4.782933e+00  5.062111e+00  8.469903e-01   \n",
       "\n",
       "                  5             6  \n",
       "count  4.900000e+01  4.900000e+01  \n",
       "mean   1.699321e-17 -4.078370e-17  \n",
       "std    1.010363e+00  1.010363e+00  \n",
       "min   -1.165962e+00 -1.127294e+00  \n",
       "25%   -5.609539e-01 -6.959049e-01  \n",
       "50%   -1.439096e-01 -3.547154e-01  \n",
       "75%    3.465579e-01  5.472798e-01  \n",
       "max    4.616856e+00  3.782697e+00  "
      ]
     },
     "execution_count": 48,
     "metadata": {},
     "output_type": "execute_result"
    }
   ],
   "source": [
    "pd.DataFrame(A_hat).describe()"
   ]
  },
  {
   "cell_type": "code",
   "execution_count": 96,
   "metadata": {
    "collapsed": false
   },
   "outputs": [],
   "source": [
    "tmp = data.reset_index()\n",
    "countries = list(tmp['index'])\n",
    "variables = list(data.columns)"
   ]
  },
  {
   "cell_type": "markdown",
   "metadata": {},
   "source": [
    "### (b) (Singular value decomposition) \n",
    "Find the first two right singular vectors of A , v1,v2 ∈ R7. Project the data onto the two-dimensional space spanned by v1 and v2. Plot this in a pca scatter plot where the x- and y-axes correspond to v1 and v2 respectively and where the points correspond to the countries — label each point by the country it corresponds to. Identify the two obvious outliers."
   ]
  },
  {
   "cell_type": "code",
   "execution_count": 101,
   "metadata": {
    "collapsed": false
   },
   "outputs": [
    {
     "data": {
      "image/png": "[encoded data removed]",
      "text/plain": [
       "<matplotlib.figure.Figure at 0x10cbb9908>"
      ]
     },
     "metadata": {},
     "output_type": "display_data"
    }
   ],
   "source": [
    "plot_pca(A_hat, countries, 'green')"
   ]
  },
  {
   "cell_type": "markdown",
   "metadata": {},
   "source": [
    "We could easily observe from the scatterplot that the two obvious outliers are Singapore and HK.\n",
    "\n",
    "### (c) (Singular value decomposition)\n",
    "Now do the same with the two left singular vectors of A , u1,u2 ∈ R49, i.e., project the data onto the two-dimensional space spanned by u1 and u2 and plot this in a graph as before. Note that in this case, the points correspond to the demographic variables — label them accordingly."
   ]
  },
  {
   "cell_type": "code",
   "execution_count": 58,
   "metadata": {
    "collapsed": true
   },
   "outputs": [],
   "source": [
    "B = A.T\n",
    "B_hat = preprocessing.scale(B)"
   ]
  },
  {
   "cell_type": "code",
   "execution_count": 102,
   "metadata": {
    "collapsed": false
   },
   "outputs": [
    {
     "data": {
      "image/png": "[encoded data removed]",
      "text/plain": [
       "<matplotlib.figure.Figure at 0x10c931160>"
      ]
     },
     "metadata": {},
     "output_type": "display_data"
    }
   ],
   "source": [
    "plot_pca(B_hat, variables, 'red')"
   ]
  },
  {
   "cell_type": "markdown",
   "metadata": {},
   "source": [
    "### (d) (Biplot)\n",
    "Overlay the two graphs in (a) and (b) in a biplot. Identify the two demographic variables near the two outlier countries — these explain why the two countries are outliers."
   ]
  },
  {
   "cell_type": "code",
   "execution_count": 107,
   "metadata": {
    "collapsed": false
   },
   "outputs": [
    {
     "data": {
      "image/png": "[encoded data removed]",
      "text/plain": [
       "<matplotlib.figure.Figure at 0x10ca3e400>"
      ]
     },
     "metadata": {},
     "output_type": "display_data"
    }
   ],
   "source": [
    "plot_pca(A_hat, countries, 'black')\n",
    "plot_pca(B_hat, variables, 'red')\n",
    "plt.show()"
   ]
  },
  {
   "cell_type": "markdown",
   "metadata": {},
   "source": [
    "So, we could explain that Singapore and HK, which is obviously not a country, are outliers because the they both have extremely high Inhab/physician rate and relative large values for Population/1000HectarAgri.\n",
    "\n",
    "### (e) (Outlier removal )\n",
    "Remove the two outlier countries and redo (a) with this 47 × 7 matrix. This allows you to see features that were earlier obscured by the outliers. Which two European countries are most alike Japan?"
   ]
  },
  {
   "cell_type": "code",
   "execution_count": 110,
   "metadata": {
    "collapsed": false
   },
   "outputs": [],
   "source": [
    "data_r = data.drop(['Singapore', 'Hong Kong'], 0)\n",
    "countries_r = list(data_r.index)"
   ]
  },
  {
   "cell_type": "code",
   "execution_count": 111,
   "metadata": {
    "collapsed": false
   },
   "outputs": [],
   "source": [
    "A_r_hat = preprocessing.scale(np.matrix(data_r))\n",
    "B_r_hat = preprocessing.scale(np.matrix(data_r).T)"
   ]
  },
  {
   "cell_type": "code",
   "execution_count": 116,
   "metadata": {
    "collapsed": false
   },
   "outputs": [
    {
     "data": {
      "image/png": "[encoded data removed]",
      "text/plain": [
       "<matplotlib.figure.Figure at 0x10ca45e10>"
      ]
     },
     "metadata": {},
     "output_type": "display_data"
    }
   ],
   "source": [
    "plot_pca(A_r_hat, countries_r, 'black')\n",
    "plot_pca(B_r_hat, variables, 'red')\n",
    "plt.show()"
   ]
  },
  {
   "cell_type": "code",
   "execution_count": 117,
   "metadata": {
    "collapsed": false
   },
   "outputs": [
    {
     "data": {
      "image/png": "[encoded data removed]",
      "text/plain": [
       "<matplotlib.figure.Figure at 0x10c9d0b38>"
      ]
     },
     "metadata": {},
     "output_type": "display_data"
    }
   ],
   "source": [
    "#zoom in to make it clearer\n",
    "plot_pca(A_r_hat, countries_r, 'black')\n",
    "plot_pca(B_r_hat, variables, 'red')\n",
    "plt.xlim(-6, 6)\n",
    "plt.ylim(-2,3)\n",
    "plt.show()"
   ]
  },
  {
   "cell_type": "markdown",
   "metadata": {},
   "source": [
    "As observed, the two European countries that are more alike Japan are Ntherlands and Belgium.\n",
    "\n",
    "### (f) (Biplot)\n",
    "Note that the reason we didn’t need to adjust the scale of the axes using the singular values of A  in our biplot because the standardization has taken care of the scaling. Suppose we only mean center but did not scale our matrix by standard deviation, show how we would perform the biplot."
   ]
  },
  {
   "cell_type": "code",
   "execution_count": 124,
   "metadata": {
    "collapsed": true
   },
   "outputs": [],
   "source": [
    "A_m = preprocessing.scale(A, with_std=False)\n",
    "B_m = preprocessing.scale(B, with_std=False)"
   ]
  },
  {
   "cell_type": "code",
   "execution_count": 128,
   "metadata": {
    "collapsed": false
   },
   "outputs": [
    {
     "data": {
      "image/png": "[encoded data removed]",
      "text/plain": [
       "<matplotlib.figure.Figure at 0x103dd9940>"
      ]
     },
     "metadata": {},
     "output_type": "display_data"
    }
   ],
   "source": [
    "plot_pca(A_m, countries, 'black')\n",
    "plot_pca(B_m, variables, 'red')\n",
    "plt.show()"
   ]
  },
  {
   "cell_type": "markdown",
   "metadata": {},
   "source": [
    "### (g) (Effect of mean centering) \n",
    "Let’s suppose now that we neither mean center nor scale A by standard deviation, i.e., we use the raw data A instead of A . Repeat what we did in (b), (c), (d). Discuss your results."
   ]
  },
  {
   "cell_type": "code",
   "execution_count": 118,
   "metadata": {
    "collapsed": false
   },
   "outputs": [
    {
     "data": {
      "image/png": "[encoded data removed]",
      "text/plain": [
       "<matplotlib.figure.Figure at 0x10cc39438>"
      ]
     },
     "metadata": {},
     "output_type": "display_data"
    }
   ],
   "source": [
    "plot_pca(A, countries, 'black')\n",
    "plot_pca(B, variables, 'red')\n",
    "plt.show()"
   ]
  },
  {
   "cell_type": "markdown",
   "metadata": {},
   "source": [
    "If we only mean center the data or do not perform any kind of standarization, the scales of variables will be very off compared to that of the countries. Even though we could still observe Singapore and Hong kong as outliers, we cannot gain useful information from the other countries. As we could see from the summary statistics of the dataset below, variable `Population/1000HectarAgri` has an extremely high value of std, so that explains why PC1 is almost at the same direction as this variable on the biplot. Thus, they become outliers due to this property, but we cannot tell that they also have reletively large values of `Inhab/physician` as we could observe in the biplot of standarized data. This comparison also shows the necessity of standarization before performing PCA."
   ]
  },
  {
   "cell_type": "code",
   "execution_count": 130,
   "metadata": {
    "collapsed": false
   },
   "outputs": [
    {
     "data": {
      "text/html": [
       "<div>\n",
       "<table border=\"1\" class=\"dataframe\">\n",
       "  <thead>\n",
       "    <tr style=\"text-align: right;\">\n",
       "      <th></th>\n",
       "      <th>InfantDeath/1000</th>\n",
       "      <th>#Inhab/physician</th>\n",
       "      <th>Population/sq.km</th>\n",
       "      <th>Population/1000HectarAgri</th>\n",
       "      <th>%LiterateOver15</th>\n",
       "      <th>#Student/100.000</th>\n",
       "      <th>GNP</th>\n",
       "    </tr>\n",
       "  </thead>\n",
       "  <tbody>\n",
       "    <tr>\n",
       "      <th>count</th>\n",
       "      <td>49.000000</td>\n",
       "      <td>49.000000</td>\n",
       "      <td>49.000000</td>\n",
       "      <td>49.000000</td>\n",
       "      <td>49.000000</td>\n",
       "      <td>49.000000</td>\n",
       "      <td>49.000000</td>\n",
       "    </tr>\n",
       "    <tr>\n",
       "      <th>mean</th>\n",
       "      <td>50.475510</td>\n",
       "      <td>1872.326531</td>\n",
       "      <td>248.204082</td>\n",
       "      <td>6462.489796</td>\n",
       "      <td>79.559184</td>\n",
       "      <td>411.000000</td>\n",
       "      <td>647.897959</td>\n",
       "    </tr>\n",
       "    <tr>\n",
       "      <th>std</th>\n",
       "      <td>35.544863</td>\n",
       "      <td>1568.101936</td>\n",
       "      <td>598.620706</td>\n",
       "      <td>20308.111097</td>\n",
       "      <td>22.594237</td>\n",
       "      <td>344.019924</td>\n",
       "      <td>515.265435</td>\n",
       "    </tr>\n",
       "    <tr>\n",
       "      <th>min</th>\n",
       "      <td>16.500000</td>\n",
       "      <td>578.000000</td>\n",
       "      <td>1.000000</td>\n",
       "      <td>21.000000</td>\n",
       "      <td>19.300000</td>\n",
       "      <td>14.000000</td>\n",
       "      <td>73.000000</td>\n",
       "    </tr>\n",
       "    <tr>\n",
       "      <th>25%</th>\n",
       "      <td>27.400000</td>\n",
       "      <td>830.000000</td>\n",
       "      <td>18.000000</td>\n",
       "      <td>1042.000000</td>\n",
       "      <td>60.500000</td>\n",
       "      <td>220.000000</td>\n",
       "      <td>293.000000</td>\n",
       "    </tr>\n",
       "    <tr>\n",
       "      <th>50%</th>\n",
       "      <td>38.300000</td>\n",
       "      <td>1014.000000</td>\n",
       "      <td>84.000000</td>\n",
       "      <td>1497.000000</td>\n",
       "      <td>89.000000</td>\n",
       "      <td>362.000000</td>\n",
       "      <td>467.000000</td>\n",
       "    </tr>\n",
       "    <tr>\n",
       "      <th>75%</th>\n",
       "      <td>68.900000</td>\n",
       "      <td>2400.000000</td>\n",
       "      <td>168.000000</td>\n",
       "      <td>3420.000000</td>\n",
       "      <td>98.500000</td>\n",
       "      <td>529.000000</td>\n",
       "      <td>927.000000</td>\n",
       "    </tr>\n",
       "    <tr>\n",
       "      <th>max</th>\n",
       "      <td>225.000000</td>\n",
       "      <td>6400.000000</td>\n",
       "      <td>3082.000000</td>\n",
       "      <td>108210.000000</td>\n",
       "      <td>98.500000</td>\n",
       "      <td>1983.000000</td>\n",
       "      <td>2577.000000</td>\n",
       "    </tr>\n",
       "  </tbody>\n",
       "</table>\n",
       "</div>"
      ],
      "text/plain": [
       "       InfantDeath/1000  #Inhab/physician  Population/sq.km  \\\n",
       "count         49.000000         49.000000         49.000000   \n",
       "mean          50.475510       1872.326531        248.204082   \n",
       "std           35.544863       1568.101936        598.620706   \n",
       "min           16.500000        578.000000          1.000000   \n",
       "25%           27.400000        830.000000         18.000000   \n",
       "50%           38.300000       1014.000000         84.000000   \n",
       "75%           68.900000       2400.000000        168.000000   \n",
       "max          225.000000       6400.000000       3082.000000   \n",
       "\n",
       "       Population/1000HectarAgri  %LiterateOver15  #Student/100.000  \\\n",
       "count                  49.000000        49.000000         49.000000   \n",
       "mean                 6462.489796        79.559184        411.000000   \n",
       "std                 20308.111097        22.594237        344.019924   \n",
       "min                    21.000000        19.300000         14.000000   \n",
       "25%                  1042.000000        60.500000        220.000000   \n",
       "50%                  1497.000000        89.000000        362.000000   \n",
       "75%                  3420.000000        98.500000        529.000000   \n",
       "max                108210.000000        98.500000       1983.000000   \n",
       "\n",
       "               GNP  \n",
       "count    49.000000  \n",
       "mean    647.897959  \n",
       "std     515.265435  \n",
       "min      73.000000  \n",
       "25%     293.000000  \n",
       "50%     467.000000  \n",
       "75%     927.000000  \n",
       "max    2577.000000  "
      ]
     },
     "execution_count": 130,
     "metadata": {},
     "output_type": "execute_result"
    }
   ],
   "source": [
    "data.describe()"
   ]
  },
  {
   "cell_type": "code",
   "execution_count": null,
   "metadata": {
    "collapsed": true
   },
   "outputs": [],
   "source": []
  }
 ],
 "metadata": {
  "kernelspec": {
   "display_name": "Python 3",
   "language": "python",
   "name": "python3"
  },
  "language_info": {
   "codemirror_mode": {
    "name": "ipython",
    "version": 3
   },
   "file_extension": ".py",
   "mimetype": "text/x-python",
   "name": "python",
   "nbconvert_exporter": "python",
   "pygments_lexer": "ipython3",
   "version": "3.5.2"
  }
 },
 "nbformat": 4,
 "nbformat_minor": 0
}
